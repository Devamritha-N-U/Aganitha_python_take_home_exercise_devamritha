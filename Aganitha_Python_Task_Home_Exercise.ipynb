{
  "nbformat": 4,
  "nbformat_minor": 0,
  "metadata": {
    "colab": {
      "provenance": [],
      "authorship_tag": "ABX9TyP5dh2AQTE7fk+EDBLMjfal",
      "include_colab_link": true
    },
    "kernelspec": {
      "name": "python3",
      "display_name": "Python 3"
    },
    "language_info": {
      "name": "python"
    }
  },
  "cells": [
    {
      "cell_type": "markdown",
      "metadata": {
        "id": "view-in-github",
        "colab_type": "text"
      },
      "source": [
        "<a href=\"https://colab.research.google.com/github/Devamritha-N-U/Aganitha_python_take_home_exercise_devamritha/blob/main/Aganitha_Python_Task_Home_Exercise.ipynb\" target=\"_parent\"><img src=\"https://colab.research.google.com/assets/colab-badge.svg\" alt=\"Open In Colab\"/></a>"
      ]
    },
    {
      "cell_type": "markdown",
      "source": [
        "Mounted the google drive and named a folder called my pubmed projects and save this file."
      ],
      "metadata": {
        "id": "pMXP_OUc63UG"
      }
    },
    {
      "cell_type": "markdown",
      "source": [
        "Installing poetry : Poetry helps to declare , install and manage packages automatically instead of manually.\n",
        "\n",
        "!: to run the shell commands."
      ],
      "metadata": {
        "id": "D0jNGOC87kJ1"
      }
    },
    {
      "cell_type": "code",
      "execution_count": null,
      "metadata": {
        "id": "NEd3LVhrV2PH",
        "colab": {
          "base_uri": "https://localhost:8080/"
        },
        "outputId": "340cb01b-6d3a-4949-f3ca-d1ac3eee1c91",
        "collapsed": true
      },
      "outputs": [
        {
          "output_type": "stream",
          "name": "stdout",
          "text": [
            "Collecting poetry\n",
            "  Downloading poetry-2.1.3-py3-none-any.whl.metadata (7.1 kB)\n",
            "Requirement already satisfied: build<2.0.0,>=1.2.1 in /usr/local/lib/python3.11/dist-packages (from poetry) (1.2.2.post1)\n",
            "Requirement already satisfied: cachecontrol<0.15.0,>=0.14.0 in /usr/local/lib/python3.11/dist-packages (from cachecontrol[filecache]<0.15.0,>=0.14.0->poetry) (0.14.3)\n",
            "Collecting cleo<3.0.0,>=2.1.0 (from poetry)\n",
            "  Downloading cleo-2.1.0-py3-none-any.whl.metadata (12 kB)\n",
            "Collecting dulwich<0.23.0,>=0.22.6 (from poetry)\n",
            "  Downloading dulwich-0.22.8-cp311-cp311-manylinux_2_17_x86_64.manylinux2014_x86_64.whl.metadata (4.9 kB)\n",
            "Requirement already satisfied: fastjsonschema<3.0.0,>=2.18.0 in /usr/local/lib/python3.11/dist-packages (from poetry) (2.21.1)\n",
            "Collecting findpython<0.7.0,>=0.6.2 (from poetry)\n",
            "  Downloading findpython-0.6.3-py3-none-any.whl.metadata (5.3 kB)\n",
            "Collecting installer<0.8.0,>=0.7.0 (from poetry)\n",
            "  Downloading installer-0.7.0-py3-none-any.whl.metadata (936 bytes)\n",
            "Requirement already satisfied: keyring<26.0.0,>=25.1.0 in /usr/local/lib/python3.11/dist-packages (from poetry) (25.6.0)\n",
            "Requirement already satisfied: packaging>=24.0 in /usr/local/lib/python3.11/dist-packages (from poetry) (24.2)\n",
            "Collecting pbs-installer<2026.0.0,>=2025.1.6 (from pbs-installer[download,install]<2026.0.0,>=2025.1.6->poetry)\n",
            "  Downloading pbs_installer-2025.7.8-py3-none-any.whl.metadata (990 bytes)\n",
            "Collecting pkginfo<2.0,>=1.12 (from poetry)\n",
            "  Downloading pkginfo-1.12.1.2-py3-none-any.whl.metadata (13 kB)\n",
            "Requirement already satisfied: platformdirs<5,>=3.0.0 in /usr/local/lib/python3.11/dist-packages (from poetry) (4.3.8)\n",
            "Collecting poetry-core==2.1.3 (from poetry)\n",
            "  Downloading poetry_core-2.1.3-py3-none-any.whl.metadata (3.5 kB)\n",
            "Requirement already satisfied: pyproject-hooks<2.0.0,>=1.0.0 in /usr/local/lib/python3.11/dist-packages (from poetry) (1.2.0)\n",
            "Requirement already satisfied: requests<3.0,>=2.26 in /usr/local/lib/python3.11/dist-packages (from poetry) (2.32.3)\n",
            "Requirement already satisfied: requests-toolbelt<2.0.0,>=1.0.0 in /usr/local/lib/python3.11/dist-packages (from poetry) (1.0.0)\n",
            "Requirement already satisfied: shellingham<2.0,>=1.5 in /usr/local/lib/python3.11/dist-packages (from poetry) (1.5.4)\n",
            "Requirement already satisfied: tomlkit<1.0.0,>=0.11.4 in /usr/local/lib/python3.11/dist-packages (from poetry) (0.13.3)\n",
            "Collecting trove-classifiers>=2022.5.19 (from poetry)\n",
            "  Downloading trove_classifiers-2025.5.9.12-py3-none-any.whl.metadata (2.3 kB)\n",
            "Collecting virtualenv<21.0.0,>=20.26.6 (from poetry)\n",
            "  Downloading virtualenv-20.31.2-py3-none-any.whl.metadata (4.5 kB)\n",
            "Requirement already satisfied: msgpack<2.0.0,>=0.5.2 in /usr/local/lib/python3.11/dist-packages (from cachecontrol<0.15.0,>=0.14.0->cachecontrol[filecache]<0.15.0,>=0.14.0->poetry) (1.1.1)\n",
            "Requirement already satisfied: filelock>=3.8.0 in /usr/local/lib/python3.11/dist-packages (from cachecontrol[filecache]<0.15.0,>=0.14.0->poetry) (3.18.0)\n",
            "Collecting crashtest<0.5.0,>=0.4.1 (from cleo<3.0.0,>=2.1.0->poetry)\n",
            "  Downloading crashtest-0.4.1-py3-none-any.whl.metadata (1.1 kB)\n",
            "Collecting rapidfuzz<4.0.0,>=3.0.0 (from cleo<3.0.0,>=2.1.0->poetry)\n",
            "  Downloading rapidfuzz-3.13.0-cp311-cp311-manylinux_2_17_x86_64.manylinux2014_x86_64.whl.metadata (12 kB)\n",
            "Requirement already satisfied: urllib3>=1.25 in /usr/local/lib/python3.11/dist-packages (from dulwich<0.23.0,>=0.22.6->poetry) (2.4.0)\n",
            "Requirement already satisfied: SecretStorage>=3.2 in /usr/local/lib/python3.11/dist-packages (from keyring<26.0.0,>=25.1.0->poetry) (3.3.3)\n",
            "Requirement already satisfied: jeepney>=0.4.2 in /usr/local/lib/python3.11/dist-packages (from keyring<26.0.0,>=25.1.0->poetry) (0.9.0)\n",
            "Requirement already satisfied: importlib_metadata>=4.11.4 in /usr/local/lib/python3.11/dist-packages (from keyring<26.0.0,>=25.1.0->poetry) (8.7.0)\n",
            "Requirement already satisfied: jaraco.classes in /usr/local/lib/python3.11/dist-packages (from keyring<26.0.0,>=25.1.0->poetry) (3.4.0)\n",
            "Requirement already satisfied: jaraco.functools in /usr/local/lib/python3.11/dist-packages (from keyring<26.0.0,>=25.1.0->poetry) (4.2.1)\n",
            "Requirement already satisfied: jaraco.context in /usr/local/lib/python3.11/dist-packages (from keyring<26.0.0,>=25.1.0->poetry) (6.0.1)\n",
            "Requirement already satisfied: httpx<1,>=0.27.0 in /usr/local/lib/python3.11/dist-packages (from pbs-installer[download,install]<2026.0.0,>=2025.1.6->poetry) (0.28.1)\n",
            "Requirement already satisfied: zstandard>=0.21.0 in /usr/local/lib/python3.11/dist-packages (from pbs-installer[download,install]<2026.0.0,>=2025.1.6->poetry) (0.23.0)\n",
            "Requirement already satisfied: charset-normalizer<4,>=2 in /usr/local/lib/python3.11/dist-packages (from requests<3.0,>=2.26->poetry) (3.4.2)\n",
            "Requirement already satisfied: idna<4,>=2.5 in /usr/local/lib/python3.11/dist-packages (from requests<3.0,>=2.26->poetry) (3.10)\n",
            "Requirement already satisfied: certifi>=2017.4.17 in /usr/local/lib/python3.11/dist-packages (from requests<3.0,>=2.26->poetry) (2025.7.9)\n",
            "Collecting distlib<1,>=0.3.7 (from virtualenv<21.0.0,>=20.26.6->poetry)\n",
            "  Downloading distlib-0.3.9-py2.py3-none-any.whl.metadata (5.2 kB)\n",
            "Requirement already satisfied: anyio in /usr/local/lib/python3.11/dist-packages (from httpx<1,>=0.27.0->pbs-installer[download,install]<2026.0.0,>=2025.1.6->poetry) (4.9.0)\n",
            "Requirement already satisfied: httpcore==1.* in /usr/local/lib/python3.11/dist-packages (from httpx<1,>=0.27.0->pbs-installer[download,install]<2026.0.0,>=2025.1.6->poetry) (1.0.9)\n",
            "Requirement already satisfied: h11>=0.16 in /usr/local/lib/python3.11/dist-packages (from httpcore==1.*->httpx<1,>=0.27.0->pbs-installer[download,install]<2026.0.0,>=2025.1.6->poetry) (0.16.0)\n",
            "Requirement already satisfied: zipp>=3.20 in /usr/local/lib/python3.11/dist-packages (from importlib_metadata>=4.11.4->keyring<26.0.0,>=25.1.0->poetry) (3.23.0)\n",
            "Requirement already satisfied: cryptography>=2.0 in /usr/local/lib/python3.11/dist-packages (from SecretStorage>=3.2->keyring<26.0.0,>=25.1.0->poetry) (43.0.3)\n",
            "Requirement already satisfied: more-itertools in /usr/local/lib/python3.11/dist-packages (from jaraco.classes->keyring<26.0.0,>=25.1.0->poetry) (10.7.0)\n",
            "Requirement already satisfied: backports.tarfile in /usr/local/lib/python3.11/dist-packages (from jaraco.context->keyring<26.0.0,>=25.1.0->poetry) (1.2.0)\n",
            "Requirement already satisfied: cffi>=1.12 in /usr/local/lib/python3.11/dist-packages (from cryptography>=2.0->SecretStorage>=3.2->keyring<26.0.0,>=25.1.0->poetry) (1.17.1)\n",
            "Requirement already satisfied: sniffio>=1.1 in /usr/local/lib/python3.11/dist-packages (from anyio->httpx<1,>=0.27.0->pbs-installer[download,install]<2026.0.0,>=2025.1.6->poetry) (1.3.1)\n",
            "Requirement already satisfied: typing_extensions>=4.5 in /usr/local/lib/python3.11/dist-packages (from anyio->httpx<1,>=0.27.0->pbs-installer[download,install]<2026.0.0,>=2025.1.6->poetry) (4.14.1)\n",
            "Requirement already satisfied: pycparser in /usr/local/lib/python3.11/dist-packages (from cffi>=1.12->cryptography>=2.0->SecretStorage>=3.2->keyring<26.0.0,>=25.1.0->poetry) (2.22)\n",
            "Downloading poetry-2.1.3-py3-none-any.whl (278 kB)\n",
            "\u001b[2K   \u001b[90m━━━━━━━━━━━━━━━━━━━━━━━━━━━━━━━━━━━━━━━━\u001b[0m \u001b[32m278.6/278.6 kB\u001b[0m \u001b[31m6.9 MB/s\u001b[0m eta \u001b[36m0:00:00\u001b[0m\n",
            "\u001b[?25hDownloading poetry_core-2.1.3-py3-none-any.whl (332 kB)\n",
            "\u001b[2K   \u001b[90m━━━━━━━━━━━━━━━━━━━━━━━━━━━━━━━━━━━━━━━━\u001b[0m \u001b[32m332.6/332.6 kB\u001b[0m \u001b[31m12.7 MB/s\u001b[0m eta \u001b[36m0:00:00\u001b[0m\n",
            "\u001b[?25hDownloading cleo-2.1.0-py3-none-any.whl (78 kB)\n",
            "\u001b[2K   \u001b[90m━━━━━━━━━━━━━━━━━━━━━━━━━━━━━━━━━━━━━━━━\u001b[0m \u001b[32m78.7/78.7 kB\u001b[0m \u001b[31m4.5 MB/s\u001b[0m eta \u001b[36m0:00:00\u001b[0m\n",
            "\u001b[?25hDownloading dulwich-0.22.8-cp311-cp311-manylinux_2_17_x86_64.manylinux2014_x86_64.whl (1.0 MB)\n",
            "\u001b[2K   \u001b[90m━━━━━━━━━━━━━━━━━━━━━━━━━━━━━━━━━━━━━━━━\u001b[0m \u001b[32m1.0/1.0 MB\u001b[0m \u001b[31m36.7 MB/s\u001b[0m eta \u001b[36m0:00:00\u001b[0m\n",
            "\u001b[?25hDownloading findpython-0.6.3-py3-none-any.whl (20 kB)\n",
            "Downloading installer-0.7.0-py3-none-any.whl (453 kB)\n",
            "\u001b[2K   \u001b[90m━━━━━━━━━━━━━━━━━━━━━━━━━━━━━━━━━━━━━━━━\u001b[0m \u001b[32m453.8/453.8 kB\u001b[0m \u001b[31m26.8 MB/s\u001b[0m eta \u001b[36m0:00:00\u001b[0m\n",
            "\u001b[?25hDownloading pbs_installer-2025.7.8-py3-none-any.whl (59 kB)\n",
            "\u001b[2K   \u001b[90m━━━━━━━━━━━━━━━━━━━━━━━━━━━━━━━━━━━━━━━━\u001b[0m \u001b[32m59.4/59.4 kB\u001b[0m \u001b[31m4.0 MB/s\u001b[0m eta \u001b[36m0:00:00\u001b[0m\n",
            "\u001b[?25hDownloading pkginfo-1.12.1.2-py3-none-any.whl (32 kB)\n",
            "Downloading trove_classifiers-2025.5.9.12-py3-none-any.whl (14 kB)\n",
            "Downloading virtualenv-20.31.2-py3-none-any.whl (6.1 MB)\n",
            "\u001b[2K   \u001b[90m━━━━━━━━━━━━━━━━━━━━━━━━━━━━━━━━━━━━━━━━\u001b[0m \u001b[32m6.1/6.1 MB\u001b[0m \u001b[31m80.0 MB/s\u001b[0m eta \u001b[36m0:00:00\u001b[0m\n",
            "\u001b[?25hDownloading crashtest-0.4.1-py3-none-any.whl (7.6 kB)\n",
            "Downloading distlib-0.3.9-py2.py3-none-any.whl (468 kB)\n",
            "\u001b[2K   \u001b[90m━━━━━━━━━━━━━━━━━━━━━━━━━━━━━━━━━━━━━━━━\u001b[0m \u001b[32m469.0/469.0 kB\u001b[0m \u001b[31m30.0 MB/s\u001b[0m eta \u001b[36m0:00:00\u001b[0m\n",
            "\u001b[?25hDownloading rapidfuzz-3.13.0-cp311-cp311-manylinux_2_17_x86_64.manylinux2014_x86_64.whl (3.1 MB)\n",
            "\u001b[2K   \u001b[90m━━━━━━━━━━━━━━━━━━━━━━━━━━━━━━━━━━━━━━━━\u001b[0m \u001b[32m3.1/3.1 MB\u001b[0m \u001b[31m84.6 MB/s\u001b[0m eta \u001b[36m0:00:00\u001b[0m\n",
            "\u001b[?25hInstalling collected packages: trove-classifiers, distlib, virtualenv, rapidfuzz, poetry-core, pkginfo, pbs-installer, installer, findpython, dulwich, crashtest, cleo, poetry\n",
            "Successfully installed cleo-2.1.0 crashtest-0.4.1 distlib-0.3.9 dulwich-0.22.8 findpython-0.6.3 installer-0.7.0 pbs-installer-2025.7.8 pkginfo-1.12.1.2 poetry-2.1.3 poetry-core-2.1.3 rapidfuzz-3.13.0 trove-classifiers-2025.5.9.12 virtualenv-20.31.2\n"
          ]
        }
      ],
      "source": [
        "!pip install poetry"
      ]
    },
    {
      "cell_type": "markdown",
      "source": [
        "Creating a virtual environment in the project"
      ],
      "metadata": {
        "id": "iod-ODQA8eVA"
      }
    },
    {
      "cell_type": "code",
      "source": [
        "!poetry config virtualenvs.in-project true"
      ],
      "metadata": {
        "id": "LY3hqHRn8VSG"
      },
      "execution_count": null,
      "outputs": []
    },
    {
      "cell_type": "markdown",
      "source": [
        "In side the folder location creating a pyproject.toml is the next task for that creating a new python project using poetry. Using !poetry init: initialse the project and using a description \"A python package to fetch PubMed articles and export to CSV\". This description can be viewed inside the pyproject.toml file. Using author name and emailid , license as MIT , python version support in between 3.8 and 4.0, Created a pyproject.toml file."
      ],
      "metadata": {
        "id": "I4yJZGGA9zTv"
      }
    },
    {
      "cell_type": "code",
      "source": [
        "# Change to your desired project directory\n",
        "%cd /content/drive/MyDrive/My_pubmed_projects\n",
        "\n",
        "# Initialize new poetry project (answer prompts for description, author, etc.)\n",
        "!poetry init --name my-pubmed-retriever --description \"A Python package to fetch PubMed articles and export to CSV.\" --author \"Devamritha <devamrithanu10@gmail.com>\" --license \"MIT\" --python \">=3.9,<3.11\" --no-interaction"
      ],
      "metadata": {
        "colab": {
          "base_uri": "https://localhost:8080/"
        },
        "id": "nvUdUU5B9DXk",
        "outputId": "bb0fefb7-1536-4579-abb5-4d136a1675cf"
      },
      "execution_count": null,
      "outputs": [
        {
          "output_type": "stream",
          "name": "stdout",
          "text": [
            "[Errno 2] No such file or directory: '/content/drive/MyDrive/My_pubmed_projects'\n",
            "/content\n"
          ]
        }
      ]
    },
    {
      "cell_type": "markdown",
      "source": [
        "Making directories for my pubmed pakages __init.py__, retriever.py, and cli command line interface script. Here my_pubmed_retriever is the package."
      ],
      "metadata": {
        "id": "0W_zhZ4OELQf"
      }
    },
    {
      "cell_type": "code",
      "source": [
        "!mkdir my_pubmed_retriever # Create your package directory\n",
        "!touch my_pubmed_retriever/__init__.py # Make it a Python package\n",
        "!touch my_pubmed_retriever/retriever.py # Your core logic\n",
        "!touch cli.py # Your command-line interface script"
      ],
      "metadata": {
        "id": "v53BvtEQEHcd"
      },
      "execution_count": null,
      "outputs": []
    },
    {
      "cell_type": "markdown",
      "source": [
        "Creating the dependencies"
      ],
      "metadata": {
        "id": "VxUVK9MsE1vm"
      }
    },
    {
      "cell_type": "code",
      "source": [
        "%cd /content/drive/MyDrive/My_pubmed_projects\n",
        "!poetry add requests pandas lxml"
      ],
      "metadata": {
        "colab": {
          "base_uri": "https://localhost:8080/"
        },
        "id": "dSPRdCLYExpA",
        "outputId": "caac43bd-8765-4377-8711-4bd2e7f7b42f",
        "collapsed": true
      },
      "execution_count": null,
      "outputs": [
        {
          "output_type": "stream",
          "name": "stdout",
          "text": [
            "[Errno 2] No such file or directory: '/content/drive/MyDrive/My_pubmed_projects'\n",
            "/content\n",
            "\u001b[33mThe currently activated Python version 3.11.13 is not supported by the project (>=3.9,<3.11).\n",
            "Trying to find and use a compatible version.\u001b[39m \n",
            "Using \u001b[36mpython3.10\u001b[39m (3.10.12)\n",
            "Creating virtualenv \u001b[36mmy-pubmed-retriever\u001b[39m in /content/.venv\n",
            "Using version \u001b[39;1m^2.32.4\u001b[39;22m for \u001b[36mrequests\u001b[39m\n",
            "Using version \u001b[39;1m^2.3.1\u001b[39;22m for \u001b[36mpandas\u001b[39m\n",
            "Using version \u001b[39;1m^6.0.0\u001b[39;22m for \u001b[36mlxml\u001b[39m\n",
            "\n",
            "\u001b[34mUpdating dependencies\u001b[39m\n",
            "\u001b[2K\u001b[34mResolving dependencies...\u001b[39m \u001b[39;2m(2.1s)\u001b[39;22m\n",
            "\n",
            "\u001b[39;1mPackage operations\u001b[39;22m: \u001b[34m12\u001b[39m installs, \u001b[34m0\u001b[39m updates, \u001b[34m0\u001b[39m removals\n",
            "\n",
            "  \u001b[34;1m-\u001b[39;22m \u001b[39mInstalling \u001b[39m\u001b[36msix\u001b[39m\u001b[39m (\u001b[39m\u001b[39;1m1.17.0\u001b[39;22m\u001b[39m)\u001b[39m: \u001b[34mPending...\u001b[39m\n",
            "\u001b[1A\u001b[0J  \u001b[34;1m-\u001b[39;22m \u001b[39mInstalling \u001b[39m\u001b[36msix\u001b[39m\u001b[39m (\u001b[39m\u001b[39;1m1.17.0\u001b[39;22m\u001b[39m)\u001b[39m: \u001b[34mDownloading...\u001b[39m \u001b[39;1m0%\u001b[39;22m\n",
            "\u001b[1A\u001b[0J  \u001b[34;1m-\u001b[39;22m \u001b[39mInstalling \u001b[39m\u001b[36msix\u001b[39m\u001b[39m (\u001b[39m\u001b[39;1m1.17.0\u001b[39;22m\u001b[39m)\u001b[39m: \u001b[34mDownloading...\u001b[39m \u001b[39;1m100%\u001b[39;22m\n",
            "\u001b[1A\u001b[0J  \u001b[34;1m-\u001b[39;22m \u001b[39mInstalling \u001b[39m\u001b[36msix\u001b[39m\u001b[39m (\u001b[39m\u001b[39;1m1.17.0\u001b[39;22m\u001b[39m)\u001b[39m: \u001b[34mInstalling...\u001b[39m\n",
            "\u001b[1A\u001b[0J  \u001b[32;1m-\u001b[39;22m \u001b[39mInstalling \u001b[39m\u001b[36msix\u001b[39m\u001b[39m (\u001b[39m\u001b[32m1.17.0\u001b[39m\u001b[39m)\u001b[39m\n",
            "  \u001b[34;1m-\u001b[39;22m \u001b[39mInstalling \u001b[39m\u001b[36mcertifi\u001b[39m\u001b[39m (\u001b[39m\u001b[39;1m2025.7.9\u001b[39;22m\u001b[39m)\u001b[39m: \u001b[34mPending...\u001b[39m\n",
            "  \u001b[34;1m-\u001b[39;22m \u001b[39mInstalling \u001b[39m\u001b[36mcharset-normalizer\u001b[39m\u001b[39m (\u001b[39m\u001b[39;1m3.4.2\u001b[39;22m\u001b[39m)\u001b[39m: \u001b[34mPending...\u001b[39m\n",
            "  \u001b[34;1m-\u001b[39;22m \u001b[39mInstalling \u001b[39m\u001b[36midna\u001b[39m\u001b[39m (\u001b[39m\u001b[39;1m3.10\u001b[39;22m\u001b[39m)\u001b[39m: \u001b[34mPending...\u001b[39m\n",
            "  \u001b[34;1m-\u001b[39;22m \u001b[39mInstalling \u001b[39m\u001b[36mnumpy\u001b[39m\u001b[39m (\u001b[39m\u001b[39;1m2.0.2\u001b[39;22m\u001b[39m)\u001b[39m: \u001b[34mPending...\u001b[39m\n",
            "  \u001b[34;1m-\u001b[39;22m \u001b[39mInstalling \u001b[39m\u001b[36mpython-dateutil\u001b[39m\u001b[39m (\u001b[39m\u001b[39;1m2.9.0.post0\u001b[39;22m\u001b[39m)\u001b[39m: \u001b[34mPending...\u001b[39m\n",
            "  \u001b[34;1m-\u001b[39;22m \u001b[39mInstalling \u001b[39m\u001b[36mpytz\u001b[39m\u001b[39m (\u001b[39m\u001b[39;1m2025.2\u001b[39;22m\u001b[39m)\u001b[39m: \u001b[34mPending...\u001b[39m\n",
            "\u001b[4A\u001b[0J  \u001b[34;1m-\u001b[39;22m \u001b[39mInstalling \u001b[39m\u001b[36mnumpy\u001b[39m\u001b[39m (\u001b[39m\u001b[39;1m2.0.2\u001b[39;22m\u001b[39m)\u001b[39m: \u001b[34mPending...\u001b[39m\n",
            "  \u001b[34;1m-\u001b[39;22m \u001b[39mInstalling \u001b[39m\u001b[36mpython-dateutil\u001b[39m\u001b[39m (\u001b[39m\u001b[39;1m2.9.0.post0\u001b[39;22m\u001b[39m)\u001b[39m: \u001b[34mPending...\u001b[39m\n",
            "  \u001b[34;1m-\u001b[39;22m \u001b[39mInstalling \u001b[39m\u001b[36mpytz\u001b[39m\u001b[39m (\u001b[39m\u001b[39;1m2025.2\u001b[39;22m\u001b[39m)\u001b[39m: \u001b[34mPending...\u001b[39m\n",
            "\u001b[3A\u001b[0J  \u001b[34;1m-\u001b[39;22m \u001b[39mInstalling \u001b[39m\u001b[36midna\u001b[39m\u001b[39m (\u001b[39m\u001b[39;1m3.10\u001b[39;22m\u001b[39m)\u001b[39m: \u001b[34mDownloading...\u001b[39m \u001b[39;1m0%\u001b[39;22m\n",
            "  \u001b[34;1m-\u001b[39;22m \u001b[39mInstalling \u001b[39m\u001b[36mnumpy\u001b[39m\u001b[39m (\u001b[39m\u001b[39;1m2.0.2\u001b[39;22m\u001b[39m)\u001b[39m: \u001b[34mPending...\u001b[39m\n",
            "  \u001b[34;1m-\u001b[39;22m \u001b[39mInstalling \u001b[39m\u001b[36mpython-dateutil\u001b[39m\u001b[39m (\u001b[39m\u001b[39;1m2.9.0.post0\u001b[39;22m\u001b[39m)\u001b[39m: \u001b[34mPending...\u001b[39m\n",
            "  \u001b[34;1m-\u001b[39;22m \u001b[39mInstalling \u001b[39m\u001b[36mpytz\u001b[39m\u001b[39m (\u001b[39m\u001b[39;1m2025.2\u001b[39;22m\u001b[39m)\u001b[39m: \u001b[34mPending...\u001b[39m\n",
            "\u001b[4A\u001b[0J  \u001b[34;1m-\u001b[39;22m \u001b[39mInstalling \u001b[39m\u001b[36mnumpy\u001b[39m\u001b[39m (\u001b[39m\u001b[39;1m2.0.2\u001b[39;22m\u001b[39m)\u001b[39m: \u001b[34mPending...\u001b[39m\n",
            "  \u001b[34;1m-\u001b[39;22m \u001b[39mInstalling \u001b[39m\u001b[36mpython-dateutil\u001b[39m\u001b[39m (\u001b[39m\u001b[39;1m2.9.0.post0\u001b[39;22m\u001b[39m)\u001b[39m: \u001b[34mPending...\u001b[39m\n",
            "  \u001b[34;1m-\u001b[39;22m \u001b[39mInstalling \u001b[39m\u001b[36mpytz\u001b[39m\u001b[39m (\u001b[39m\u001b[39;1m2025.2\u001b[39;22m\u001b[39m)\u001b[39m: \u001b[34mPending...\u001b[39m\n",
            "\u001b[3A\u001b[0J  \u001b[34;1m-\u001b[39;22m \u001b[39mInstalling \u001b[39m\u001b[36midna\u001b[39m\u001b[39m (\u001b[39m\u001b[39;1m3.10\u001b[39;22m\u001b[39m)\u001b[39m: \u001b[34mDownloading...\u001b[39m \u001b[39;1m100%\u001b[39;22m\n",
            "  \u001b[34;1m-\u001b[39;22m \u001b[39mInstalling \u001b[39m\u001b[36mnumpy\u001b[39m\u001b[39m (\u001b[39m\u001b[39;1m2.0.2\u001b[39;22m\u001b[39m)\u001b[39m: \u001b[34mPending...\u001b[39m\n",
            "  \u001b[34;1m-\u001b[39;22m \u001b[39mInstalling \u001b[39m\u001b[36mpython-dateutil\u001b[39m\u001b[39m (\u001b[39m\u001b[39;1m2.9.0.post0\u001b[39;22m\u001b[39m)\u001b[39m: \u001b[34mPending...\u001b[39m\n",
            "  \u001b[34;1m-\u001b[39;22m \u001b[39mInstalling \u001b[39m\u001b[36mpytz\u001b[39m\u001b[39m (\u001b[39m\u001b[39;1m2025.2\u001b[39;22m\u001b[39m)\u001b[39m: \u001b[34mPending...\u001b[39m\n",
            "\u001b[4A\u001b[0J  \u001b[34;1m-\u001b[39;22m \u001b[39mInstalling \u001b[39m\u001b[36mnumpy\u001b[39m\u001b[39m (\u001b[39m\u001b[39;1m2.0.2\u001b[39;22m\u001b[39m)\u001b[39m: \u001b[34mPending...\u001b[39m\n",
            "  \u001b[34;1m-\u001b[39;22m \u001b[39mInstalling \u001b[39m\u001b[36mpython-dateutil\u001b[39m\u001b[39m (\u001b[39m\u001b[39;1m2.9.0.post0\u001b[39;22m\u001b[39m)\u001b[39m: \u001b[34mPending...\u001b[39m\n",
            "  \u001b[34;1m-\u001b[39;22m \u001b[39mInstalling \u001b[39m\u001b[36mpytz\u001b[39m\u001b[39m (\u001b[39m\u001b[39;1m2025.2\u001b[39;22m\u001b[39m)\u001b[39m: \u001b[34mPending...\u001b[39m\n",
            "\u001b[3A\u001b[0J  \u001b[34;1m-\u001b[39;22m \u001b[39mInstalling \u001b[39m\u001b[36midna\u001b[39m\u001b[39m (\u001b[39m\u001b[39;1m3.10\u001b[39;22m\u001b[39m)\u001b[39m: \u001b[34mInstalling...\u001b[39m\n",
            "  \u001b[34;1m-\u001b[39;22m \u001b[39mInstalling \u001b[39m\u001b[36mnumpy\u001b[39m\u001b[39m (\u001b[39m\u001b[39;1m2.0.2\u001b[39;22m\u001b[39m)\u001b[39m: \u001b[34mPending...\u001b[39m\n",
            "  \u001b[34;1m-\u001b[39;22m \u001b[39mInstalling \u001b[39m\u001b[36mpython-dateutil\u001b[39m\u001b[39m (\u001b[39m\u001b[39;1m2.9.0.post0\u001b[39;22m\u001b[39m)\u001b[39m: \u001b[34mPending...\u001b[39m\n",
            "  \u001b[34;1m-\u001b[39;22m \u001b[39mInstalling \u001b[39m\u001b[36mpytz\u001b[39m\u001b[39m (\u001b[39m\u001b[39;1m2025.2\u001b[39;22m\u001b[39m)\u001b[39m: \u001b[34mPending...\u001b[39m\n",
            "\u001b[4A\u001b[0J  \u001b[34;1m-\u001b[39;22m \u001b[39mInstalling \u001b[39m\u001b[36mnumpy\u001b[39m\u001b[39m (\u001b[39m\u001b[39;1m2.0.2\u001b[39;22m\u001b[39m)\u001b[39m: \u001b[34mPending...\u001b[39m\n",
            "  \u001b[34;1m-\u001b[39;22m \u001b[39mInstalling \u001b[39m\u001b[36mpython-dateutil\u001b[39m\u001b[39m (\u001b[39m\u001b[39;1m2.9.0.post0\u001b[39;22m\u001b[39m)\u001b[39m: \u001b[34mPending...\u001b[39m\n",
            "  \u001b[34;1m-\u001b[39;22m \u001b[39mInstalling \u001b[39m\u001b[36mpytz\u001b[39m\u001b[39m (\u001b[39m\u001b[39;1m2025.2\u001b[39;22m\u001b[39m)\u001b[39m: \u001b[34mPending...\u001b[39m\n",
            "\u001b[3A\u001b[0J  \u001b[32;1m-\u001b[39;22m \u001b[39mInstalling \u001b[39m\u001b[36midna\u001b[39m\u001b[39m (\u001b[39m\u001b[32m3.10\u001b[39m\u001b[39m)\u001b[39m\n",
            "  \u001b[34;1m-\u001b[39;22m \u001b[39mInstalling \u001b[39m\u001b[36mnumpy\u001b[39m\u001b[39m (\u001b[39m\u001b[39;1m2.0.2\u001b[39;22m\u001b[39m)\u001b[39m: \u001b[34mPending...\u001b[39m\n",
            "  \u001b[34;1m-\u001b[39;22m \u001b[39mInstalling \u001b[39m\u001b[36mpython-dateutil\u001b[39m\u001b[39m (\u001b[39m\u001b[39;1m2.9.0.post0\u001b[39;22m\u001b[39m)\u001b[39m: \u001b[34mPending...\u001b[39m\n",
            "  \u001b[34;1m-\u001b[39;22m \u001b[39mInstalling \u001b[39m\u001b[36mpytz\u001b[39m\u001b[39m (\u001b[39m\u001b[39;1m2025.2\u001b[39;22m\u001b[39m)\u001b[39m: \u001b[34mPending...\u001b[39m\n",
            "  \u001b[34;1m-\u001b[39;22m \u001b[39mInstalling \u001b[39m\u001b[36mtzdata\u001b[39m\u001b[39m (\u001b[39m\u001b[39;1m2025.2\u001b[39;22m\u001b[39m)\u001b[39m: \u001b[34mPending...\u001b[39m\n",
            "\u001b[3A\u001b[0J  \u001b[34;1m-\u001b[39;22m \u001b[39mInstalling \u001b[39m\u001b[36mpytz\u001b[39m\u001b[39m (\u001b[39m\u001b[39;1m2025.2\u001b[39;22m\u001b[39m)\u001b[39m: \u001b[34mPending...\u001b[39m\n",
            "  \u001b[34;1m-\u001b[39;22m \u001b[39mInstalling \u001b[39m\u001b[36mtzdata\u001b[39m\u001b[39m (\u001b[39m\u001b[39;1m2025.2\u001b[39;22m\u001b[39m)\u001b[39m: \u001b[34mPending...\u001b[39m\n",
            "\u001b[2A\u001b[0J  \u001b[34;1m-\u001b[39;22m \u001b[39mInstalling \u001b[39m\u001b[36mpython-dateutil\u001b[39m\u001b[39m (\u001b[39m\u001b[39;1m2.9.0.post0\u001b[39;22m\u001b[39m)\u001b[39m: \u001b[34mDownloading...\u001b[39m \u001b[39;1m0%\u001b[39;22m\n",
            "  \u001b[34;1m-\u001b[39;22m \u001b[39mInstalling \u001b[39m\u001b[36mpytz\u001b[39m\u001b[39m (\u001b[39m\u001b[39;1m2025.2\u001b[39;22m\u001b[39m)\u001b[39m: \u001b[34mPending...\u001b[39m\n",
            "  \u001b[34;1m-\u001b[39;22m \u001b[39mInstalling \u001b[39m\u001b[36mtzdata\u001b[39m\u001b[39m (\u001b[39m\u001b[39;1m2025.2\u001b[39;22m\u001b[39m)\u001b[39m: \u001b[34mPending...\u001b[39m\n",
            "\u001b[1A\u001b[0J  \u001b[34;1m-\u001b[39;22m \u001b[39mInstalling \u001b[39m\u001b[36mtzdata\u001b[39m\u001b[39m (\u001b[39m\u001b[39;1m2025.2\u001b[39;22m\u001b[39m)\u001b[39m: \u001b[34mDownloading...\u001b[39m \u001b[39;1m0%\u001b[39;22m\n",
            "\u001b[2A\u001b[0J  \u001b[34;1m-\u001b[39;22m \u001b[39mInstalling \u001b[39m\u001b[36mtzdata\u001b[39m\u001b[39m (\u001b[39m\u001b[39;1m2025.2\u001b[39;22m\u001b[39m)\u001b[39m: \u001b[34mDownloading...\u001b[39m \u001b[39;1m0%\u001b[39;22m\n",
            "\u001b[1A\u001b[0J  \u001b[34;1m-\u001b[39;22m \u001b[39mInstalling \u001b[39m\u001b[36mpytz\u001b[39m\u001b[39m (\u001b[39m\u001b[39;1m2025.2\u001b[39;22m\u001b[39m)\u001b[39m: \u001b[34mDownloading...\u001b[39m \u001b[39;1m0%\u001b[39;22m\n",
            "  \u001b[34;1m-\u001b[39;22m \u001b[39mInstalling \u001b[39m\u001b[36mtzdata\u001b[39m\u001b[39m (\u001b[39m\u001b[39;1m2025.2\u001b[39;22m\u001b[39m)\u001b[39m: \u001b[34mDownloading...\u001b[39m \u001b[39;1m0%\u001b[39;22m\n",
            "\u001b[7A\u001b[0J  \u001b[34;1m-\u001b[39;22m \u001b[39mInstalling \u001b[39m\u001b[36mcharset-normalizer\u001b[39m\u001b[39m (\u001b[39m\u001b[39;1m3.4.2\u001b[39;22m\u001b[39m)\u001b[39m: \u001b[34mPending...\u001b[39m\n",
            "  \u001b[32;1m-\u001b[39;22m \u001b[39mInstalling \u001b[39m\u001b[36midna\u001b[39m\u001b[39m (\u001b[39m\u001b[32m3.10\u001b[39m\u001b[39m)\u001b[39m\n",
            "  \u001b[34;1m-\u001b[39;22m \u001b[39mInstalling \u001b[39m\u001b[36mnumpy\u001b[39m\u001b[39m (\u001b[39m\u001b[39;1m2.0.2\u001b[39;22m\u001b[39m)\u001b[39m: \u001b[34mPending...\u001b[39m\n",
            "  \u001b[34;1m-\u001b[39;22m \u001b[39mInstalling \u001b[39m\u001b[36mpython-dateutil\u001b[39m\u001b[39m (\u001b[39m\u001b[39;1m2.9.0.post0\u001b[39;22m\u001b[39m)\u001b[39m: \u001b[34mDownloading...\u001b[39m \u001b[39;1m0%\u001b[39;22m\n",
            "  \u001b[34;1m-\u001b[39;22m \u001b[39mInstalling \u001b[39m\u001b[36mpytz\u001b[39m\u001b[39m (\u001b[39m\u001b[39;1m2025.2\u001b[39;22m\u001b[39m)\u001b[39m: \u001b[34mDownloading...\u001b[39m \u001b[39;1m0%\u001b[39;22m\n",
            "  \u001b[34;1m-\u001b[39;22m \u001b[39mInstalling \u001b[39m\u001b[36mtzdata\u001b[39m\u001b[39m (\u001b[39m\u001b[39;1m2025.2\u001b[39;22m\u001b[39m)\u001b[39m: \u001b[34mDownloading...\u001b[39m \u001b[39;1m0%\u001b[39;22m\n",
            "\u001b[6A\u001b[0J  \u001b[34;1m-\u001b[39;22m \u001b[39mInstalling \u001b[39m\u001b[36mcertifi\u001b[39m\u001b[39m (\u001b[39m\u001b[39;1m2025.7.9\u001b[39;22m\u001b[39m)\u001b[39m: \u001b[34mDownloading...\u001b[39m \u001b[39;1m0%\u001b[39;22m\n",
            "  \u001b[34;1m-\u001b[39;22m \u001b[39mInstalling \u001b[39m\u001b[36mcharset-normalizer\u001b[39m\u001b[39m (\u001b[39m\u001b[39;1m3.4.2\u001b[39;22m\u001b[39m)\u001b[39m: \u001b[34mPending...\u001b[39m\n",
            "  \u001b[32;1m-\u001b[39;22m \u001b[39mInstalling \u001b[39m\u001b[36midna\u001b[39m\u001b[39m (\u001b[39m\u001b[32m3.10\u001b[39m\u001b[39m)\u001b[39m\n",
            "  \u001b[34;1m-\u001b[39;22m \u001b[39mInstalling \u001b[39m\u001b[36mnumpy\u001b[39m\u001b[39m (\u001b[39m\u001b[39;1m2.0.2\u001b[39;22m\u001b[39m)\u001b[39m: \u001b[34mPending...\u001b[39m\n",
            "  \u001b[34;1m-\u001b[39;22m \u001b[39mInstalling \u001b[39m\u001b[36mpython-dateutil\u001b[39m\u001b[39m (\u001b[39m\u001b[39;1m2.9.0.post0\u001b[39;22m\u001b[39m)\u001b[39m: \u001b[34mDownloading...\u001b[39m \u001b[39;1m0%\u001b[39;22m\n",
            "  \u001b[34;1m-\u001b[39;22m \u001b[39mInstalling \u001b[39m\u001b[36mpytz\u001b[39m\u001b[39m (\u001b[39m\u001b[39;1m2025.2\u001b[39;22m\u001b[39m)\u001b[39m: \u001b[34mDownloading...\u001b[39m \u001b[39;1m0%\u001b[39;22m\n",
            "  \u001b[34;1m-\u001b[39;22m \u001b[39mInstalling \u001b[39m\u001b[36mtzdata\u001b[39m\u001b[39m (\u001b[39m\u001b[39;1m2025.2\u001b[39;22m\u001b[39m)\u001b[39m: \u001b[34mDownloading...\u001b[39m \u001b[39;1m0%\u001b[39;22m\n",
            "\u001b[6A\u001b[0J  \u001b[32;1m-\u001b[39;22m \u001b[39mInstalling \u001b[39m\u001b[36midna\u001b[39m\u001b[39m (\u001b[39m\u001b[32m3.10\u001b[39m\u001b[39m)\u001b[39m\n",
            "  \u001b[34;1m-\u001b[39;22m \u001b[39mInstalling \u001b[39m\u001b[36mnumpy\u001b[39m\u001b[39m (\u001b[39m\u001b[39;1m2.0.2\u001b[39;22m\u001b[39m)\u001b[39m: \u001b[34mPending...\u001b[39m\n",
            "  \u001b[34;1m-\u001b[39;22m \u001b[39mInstalling \u001b[39m\u001b[36mpython-dateutil\u001b[39m\u001b[39m (\u001b[39m\u001b[39;1m2.9.0.post0\u001b[39;22m\u001b[39m)\u001b[39m: \u001b[34mDownloading...\u001b[39m \u001b[39;1m0%\u001b[39;22m\n",
            "  \u001b[34;1m-\u001b[39;22m \u001b[39mInstalling \u001b[39m\u001b[36mpytz\u001b[39m\u001b[39m (\u001b[39m\u001b[39;1m2025.2\u001b[39;22m\u001b[39m)\u001b[39m: \u001b[34mDownloading...\u001b[39m \u001b[39;1m0%\u001b[39;22m\n",
            "  \u001b[34;1m-\u001b[39;22m \u001b[39mInstalling \u001b[39m\u001b[36mtzdata\u001b[39m\u001b[39m (\u001b[39m\u001b[39;1m2025.2\u001b[39;22m\u001b[39m)\u001b[39m: \u001b[34mDownloading...\u001b[39m \u001b[39;1m0%\u001b[39;22m\n",
            "\u001b[5A\u001b[0J  \u001b[34;1m-\u001b[39;22m \u001b[39mInstalling \u001b[39m\u001b[36mcharset-normalizer\u001b[39m\u001b[39m (\u001b[39m\u001b[39;1m3.4.2\u001b[39;22m\u001b[39m)\u001b[39m: \u001b[34mDownloading...\u001b[39m \u001b[39;1m0%\u001b[39;22m\n",
            "  \u001b[32;1m-\u001b[39;22m \u001b[39mInstalling \u001b[39m\u001b[36midna\u001b[39m\u001b[39m (\u001b[39m\u001b[32m3.10\u001b[39m\u001b[39m)\u001b[39m\n",
            "  \u001b[34;1m-\u001b[39;22m \u001b[39mInstalling \u001b[39m\u001b[36mnumpy\u001b[39m\u001b[39m (\u001b[39m\u001b[39;1m2.0.2\u001b[39;22m\u001b[39m)\u001b[39m: \u001b[34mPending...\u001b[39m\n",
            "  \u001b[34;1m-\u001b[39;22m \u001b[39mInstalling \u001b[39m\u001b[36mpython-dateutil\u001b[39m\u001b[39m (\u001b[39m\u001b[39;1m2.9.0.post0\u001b[39;22m\u001b[39m)\u001b[39m: \u001b[34mDownloading...\u001b[39m \u001b[39;1m0%\u001b[39;22m\n",
            "  \u001b[34;1m-\u001b[39;22m \u001b[39mInstalling \u001b[39m\u001b[36mpytz\u001b[39m\u001b[39m (\u001b[39m\u001b[39;1m2025.2\u001b[39;22m\u001b[39m)\u001b[39m: \u001b[34mDownloading...\u001b[39m \u001b[39;1m0%\u001b[39;22m\n",
            "  \u001b[34;1m-\u001b[39;22m \u001b[39mInstalling \u001b[39m\u001b[36mtzdata\u001b[39m\u001b[39m (\u001b[39m\u001b[39;1m2025.2\u001b[39;22m\u001b[39m)\u001b[39m: \u001b[34mDownloading...\u001b[39m \u001b[39;1m0%\u001b[39;22m\n",
            "\u001b[4A\u001b[0J  \u001b[34;1m-\u001b[39;22m \u001b[39mInstalling \u001b[39m\u001b[36mpython-dateutil\u001b[39m\u001b[39m (\u001b[39m\u001b[39;1m2.9.0.post0\u001b[39;22m\u001b[39m)\u001b[39m: \u001b[34mDownloading...\u001b[39m \u001b[39;1m0%\u001b[39;22m\n",
            "  \u001b[34;1m-\u001b[39;22m \u001b[39mInstalling \u001b[39m\u001b[36mpytz\u001b[39m\u001b[39m (\u001b[39m\u001b[39;1m2025.2\u001b[39;22m\u001b[39m)\u001b[39m: \u001b[34mDownloading...\u001b[39m \u001b[39;1m0%\u001b[39;22m\n",
            "  \u001b[34;1m-\u001b[39;22m \u001b[39mInstalling \u001b[39m\u001b[36mtzdata\u001b[39m\u001b[39m (\u001b[39m\u001b[39;1m2025.2\u001b[39;22m\u001b[39m)\u001b[39m: \u001b[34mDownloading...\u001b[39m \u001b[39;1m0%\u001b[39;22m\n",
            "\u001b[3A\u001b[0J  \u001b[34;1m-\u001b[39;22m \u001b[39mInstalling \u001b[39m\u001b[36mnumpy\u001b[39m\u001b[39m (\u001b[39m\u001b[39;1m2.0.2\u001b[39;22m\u001b[39m)\u001b[39m: \u001b[34mDownloading...\u001b[39m \u001b[39;1m0%\u001b[39;22m\n",
            "  \u001b[34;1m-\u001b[39;22m \u001b[39mInstalling \u001b[39m\u001b[36mpython-dateutil\u001b[39m\u001b[39m (\u001b[39m\u001b[39;1m2.9.0.post0\u001b[39;22m\u001b[39m)\u001b[39m: \u001b[34mDownloading...\u001b[39m \u001b[39;1m0%\u001b[39;22m\n",
            "  \u001b[34;1m-\u001b[39;22m \u001b[39mInstalling \u001b[39m\u001b[36mpytz\u001b[39m\u001b[39m (\u001b[39m\u001b[39;1m2025.2\u001b[39;22m\u001b[39m)\u001b[39m: \u001b[34mDownloading...\u001b[39m \u001b[39;1m0%\u001b[39;22m\n",
            "  \u001b[34;1m-\u001b[39;22m \u001b[39mInstalling \u001b[39m\u001b[36mtzdata\u001b[39m\u001b[39m (\u001b[39m\u001b[39;1m2025.2\u001b[39;22m\u001b[39m)\u001b[39m: \u001b[34mDownloading...\u001b[39m \u001b[39;1m0%\u001b[39;22m\n",
            "\u001b[1A\u001b[0J  \u001b[34;1m-\u001b[39;22m \u001b[39mInstalling \u001b[39m\u001b[36mtzdata\u001b[39m\u001b[39m (\u001b[39m\u001b[39;1m2025.2\u001b[39;22m\u001b[39m)\u001b[39m: \u001b[34mDownloading...\u001b[39m \u001b[39;1m100%\u001b[39;22m\n",
            "\u001b[3A\u001b[0J  \u001b[34;1m-\u001b[39;22m \u001b[39mInstalling \u001b[39m\u001b[36mpytz\u001b[39m\u001b[39m (\u001b[39m\u001b[39;1m2025.2\u001b[39;22m\u001b[39m)\u001b[39m: \u001b[34mDownloading...\u001b[39m \u001b[39;1m0%\u001b[39;22m\n",
            "  \u001b[34;1m-\u001b[39;22m \u001b[39mInstalling \u001b[39m\u001b[36mtzdata\u001b[39m\u001b[39m (\u001b[39m\u001b[39;1m2025.2\u001b[39;22m\u001b[39m)\u001b[39m: \u001b[34mDownloading...\u001b[39m \u001b[39;1m100%\u001b[39;22m\n",
            "\u001b[2A\u001b[0J  \u001b[34;1m-\u001b[39;22m \u001b[39mInstalling \u001b[39m\u001b[36mpython-dateutil\u001b[39m\u001b[39m (\u001b[39m\u001b[39;1m2.9.0.post0\u001b[39;22m\u001b[39m)\u001b[39m: \u001b[34mDownloading...\u001b[39m \u001b[39;1m100%\u001b[39;22m\n",
            "  \u001b[34;1m-\u001b[39;22m \u001b[39mInstalling \u001b[39m\u001b[36mpytz\u001b[39m\u001b[39m (\u001b[39m\u001b[39;1m2025.2\u001b[39;22m\u001b[39m)\u001b[39m: \u001b[34mDownloading...\u001b[39m \u001b[39;1m0%\u001b[39;22m\n",
            "  \u001b[34;1m-\u001b[39;22m \u001b[39mInstalling \u001b[39m\u001b[36mtzdata\u001b[39m\u001b[39m (\u001b[39m\u001b[39;1m2025.2\u001b[39;22m\u001b[39m)\u001b[39m: \u001b[34mDownloading...\u001b[39m \u001b[39;1m100%\u001b[39;22m\n",
            "\u001b[7A\u001b[0J  \u001b[34;1m-\u001b[39;22m \u001b[39mInstalling \u001b[39m\u001b[36mcharset-normalizer\u001b[39m\u001b[39m (\u001b[39m\u001b[39;1m3.4.2\u001b[39;22m\u001b[39m)\u001b[39m: \u001b[34mDownloading...\u001b[39m \u001b[39;1m0%\u001b[39;22m\n",
            "  \u001b[32;1m-\u001b[39;22m \u001b[39mInstalling \u001b[39m\u001b[36midna\u001b[39m\u001b[39m (\u001b[39m\u001b[32m3.10\u001b[39m\u001b[39m)\u001b[39m\n",
            "  \u001b[34;1m-\u001b[39;22m \u001b[39mInstalling \u001b[39m\u001b[36mnumpy\u001b[39m\u001b[39m (\u001b[39m\u001b[39;1m2.0.2\u001b[39;22m\u001b[39m)\u001b[39m: \u001b[34mDownloading...\u001b[39m \u001b[39;1m0%\u001b[39;22m\n",
            "  \u001b[34;1m-\u001b[39;22m \u001b[39mInstalling \u001b[39m\u001b[36mpython-dateutil\u001b[39m\u001b[39m (\u001b[39m\u001b[39;1m2.9.0.post0\u001b[39;22m\u001b[39m)\u001b[39m: \u001b[34mDownloading...\u001b[39m \u001b[39;1m100%\u001b[39;22m\n",
            "  \u001b[34;1m-\u001b[39;22m \u001b[39mInstalling \u001b[39m\u001b[36mpytz\u001b[39m\u001b[39m (\u001b[39m\u001b[39;1m2025.2\u001b[39;22m\u001b[39m)\u001b[39m: \u001b[34mDownloading...\u001b[39m \u001b[39;1m0%\u001b[39;22m\n",
            "  \u001b[34;1m-\u001b[39;22m \u001b[39mInstalling \u001b[39m\u001b[36mtzdata\u001b[39m\u001b[39m (\u001b[39m\u001b[39;1m2025.2\u001b[39;22m\u001b[39m)\u001b[39m: \u001b[34mDownloading...\u001b[39m \u001b[39;1m100%\u001b[39;22m\n",
            "\u001b[6A\u001b[0J  \u001b[34;1m-\u001b[39;22m \u001b[39mInstalling \u001b[39m\u001b[36mcertifi\u001b[39m\u001b[39m (\u001b[39m\u001b[39;1m2025.7.9\u001b[39;22m\u001b[39m)\u001b[39m: \u001b[34mDownloading...\u001b[39m \u001b[39;1m100%\u001b[39;22m\n",
            "  \u001b[34;1m-\u001b[39;22m \u001b[39mInstalling \u001b[39m\u001b[36mcharset-normalizer\u001b[39m\u001b[39m (\u001b[39m\u001b[39;1m3.4.2\u001b[39;22m\u001b[39m)\u001b[39m: \u001b[34mDownloading...\u001b[39m \u001b[39;1m0%\u001b[39;22m\n",
            "  \u001b[32;1m-\u001b[39;22m \u001b[39mInstalling \u001b[39m\u001b[36midna\u001b[39m\u001b[39m (\u001b[39m\u001b[32m3.10\u001b[39m\u001b[39m)\u001b[39m\n",
            "  \u001b[34;1m-\u001b[39;22m \u001b[39mInstalling \u001b[39m\u001b[36mnumpy\u001b[39m\u001b[39m (\u001b[39m\u001b[39;1m2.0.2\u001b[39;22m\u001b[39m)\u001b[39m: \u001b[34mDownloading...\u001b[39m \u001b[39;1m0%\u001b[39;22m\n",
            "  \u001b[34;1m-\u001b[39;22m \u001b[39mInstalling \u001b[39m\u001b[36mpython-dateutil\u001b[39m\u001b[39m (\u001b[39m\u001b[39;1m2.9.0.post0\u001b[39;22m\u001b[39m)\u001b[39m: \u001b[34mDownloading...\u001b[39m \u001b[39;1m100%\u001b[39;22m\n",
            "  \u001b[34;1m-\u001b[39;22m \u001b[39mInstalling \u001b[39m\u001b[36mpytz\u001b[39m\u001b[39m (\u001b[39m\u001b[39;1m2025.2\u001b[39;22m\u001b[39m)\u001b[39m: \u001b[34mDownloading...\u001b[39m \u001b[39;1m0%\u001b[39;22m\n",
            "  \u001b[34;1m-\u001b[39;22m \u001b[39mInstalling \u001b[39m\u001b[36mtzdata\u001b[39m\u001b[39m (\u001b[39m\u001b[39;1m2025.2\u001b[39;22m\u001b[39m)\u001b[39m: \u001b[34mDownloading...\u001b[39m \u001b[39;1m100%\u001b[39;22m\n",
            "\u001b[6A\u001b[0J  \u001b[32;1m-\u001b[39;22m \u001b[39mInstalling \u001b[39m\u001b[36midna\u001b[39m\u001b[39m (\u001b[39m\u001b[32m3.10\u001b[39m\u001b[39m)\u001b[39m\n",
            "  \u001b[34;1m-\u001b[39;22m \u001b[39mInstalling \u001b[39m\u001b[36mnumpy\u001b[39m\u001b[39m (\u001b[39m\u001b[39;1m2.0.2\u001b[39;22m\u001b[39m)\u001b[39m: \u001b[34mDownloading...\u001b[39m \u001b[39;1m0%\u001b[39;22m\n",
            "  \u001b[34;1m-\u001b[39;22m \u001b[39mInstalling \u001b[39m\u001b[36mpython-dateutil\u001b[39m\u001b[39m (\u001b[39m\u001b[39;1m2.9.0.post0\u001b[39;22m\u001b[39m)\u001b[39m: \u001b[34mDownloading...\u001b[39m \u001b[39;1m100%\u001b[39;22m\n",
            "  \u001b[34;1m-\u001b[39;22m \u001b[39mInstalling \u001b[39m\u001b[36mpytz\u001b[39m\u001b[39m (\u001b[39m\u001b[39;1m2025.2\u001b[39;22m\u001b[39m)\u001b[39m: \u001b[34mDownloading...\u001b[39m \u001b[39;1m0%\u001b[39;22m\n",
            "  \u001b[34;1m-\u001b[39;22m \u001b[39mInstalling \u001b[39m\u001b[36mtzdata\u001b[39m\u001b[39m (\u001b[39m\u001b[39;1m2025.2\u001b[39;22m\u001b[39m)\u001b[39m: \u001b[34mDownloading...\u001b[39m \u001b[39;1m100%\u001b[39;22m\n",
            "\u001b[5A\u001b[0J  \u001b[34;1m-\u001b[39;22m \u001b[39mInstalling \u001b[39m\u001b[36mcharset-normalizer\u001b[39m\u001b[39m (\u001b[39m\u001b[39;1m3.4.2\u001b[39;22m\u001b[39m)\u001b[39m: \u001b[34mDownloading...\u001b[39m \u001b[39;1m100%\u001b[39;22m\n",
            "  \u001b[32;1m-\u001b[39;22m \u001b[39mInstalling \u001b[39m\u001b[36midna\u001b[39m\u001b[39m (\u001b[39m\u001b[32m3.10\u001b[39m\u001b[39m)\u001b[39m\n",
            "  \u001b[34;1m-\u001b[39;22m \u001b[39mInstalling \u001b[39m\u001b[36mnumpy\u001b[39m\u001b[39m (\u001b[39m\u001b[39;1m2.0.2\u001b[39;22m\u001b[39m)\u001b[39m: \u001b[34mDownloading...\u001b[39m \u001b[39;1m0%\u001b[39;22m\n",
            "  \u001b[34;1m-\u001b[39;22m \u001b[39mInstalling \u001b[39m\u001b[36mpython-dateutil\u001b[39m\u001b[39m (\u001b[39m\u001b[39;1m2.9.0.post0\u001b[39;22m\u001b[39m)\u001b[39m: \u001b[34mDownloading...\u001b[39m \u001b[39;1m100%\u001b[39;22m\n",
            "  \u001b[34;1m-\u001b[39;22m \u001b[39mInstalling \u001b[39m\u001b[36mpytz\u001b[39m\u001b[39m (\u001b[39m\u001b[39;1m2025.2\u001b[39;22m\u001b[39m)\u001b[39m: \u001b[34mDownloading...\u001b[39m \u001b[39;1m0%\u001b[39;22m\n",
            "  \u001b[34;1m-\u001b[39;22m \u001b[39mInstalling \u001b[39m\u001b[36mtzdata\u001b[39m\u001b[39m (\u001b[39m\u001b[39;1m2025.2\u001b[39;22m\u001b[39m)\u001b[39m: \u001b[34mDownloading...\u001b[39m \u001b[39;1m100%\u001b[39;22m\n",
            "\u001b[7A\u001b[0J  \u001b[34;1m-\u001b[39;22m \u001b[39mInstalling \u001b[39m\u001b[36mcharset-normalizer\u001b[39m\u001b[39m (\u001b[39m\u001b[39;1m3.4.2\u001b[39;22m\u001b[39m)\u001b[39m: \u001b[34mDownloading...\u001b[39m \u001b[39;1m100%\u001b[39;22m\n",
            "  \u001b[32;1m-\u001b[39;22m \u001b[39mInstalling \u001b[39m\u001b[36midna\u001b[39m\u001b[39m (\u001b[39m\u001b[32m3.10\u001b[39m\u001b[39m)\u001b[39m\n",
            "  \u001b[34;1m-\u001b[39;22m \u001b[39mInstalling \u001b[39m\u001b[36mnumpy\u001b[39m\u001b[39m (\u001b[39m\u001b[39;1m2.0.2\u001b[39;22m\u001b[39m)\u001b[39m: \u001b[34mDownloading...\u001b[39m \u001b[39;1m0%\u001b[39;22m\n",
            "  \u001b[34;1m-\u001b[39;22m \u001b[39mInstalling \u001b[39m\u001b[36mpython-dateutil\u001b[39m\u001b[39m (\u001b[39m\u001b[39;1m2.9.0.post0\u001b[39;22m\u001b[39m)\u001b[39m: \u001b[34mDownloading...\u001b[39m \u001b[39;1m100%\u001b[39;22m\n",
            "  \u001b[34;1m-\u001b[39;22m \u001b[39mInstalling \u001b[39m\u001b[36mpytz\u001b[39m\u001b[39m (\u001b[39m\u001b[39;1m2025.2\u001b[39;22m\u001b[39m)\u001b[39m: \u001b[34mDownloading...\u001b[39m \u001b[39;1m0%\u001b[39;22m\n",
            "  \u001b[34;1m-\u001b[39;22m \u001b[39mInstalling \u001b[39m\u001b[36mtzdata\u001b[39m\u001b[39m (\u001b[39m\u001b[39;1m2025.2\u001b[39;22m\u001b[39m)\u001b[39m: \u001b[34mDownloading...\u001b[39m \u001b[39;1m100%\u001b[39;22m\n",
            "\u001b[6A\u001b[0J  \u001b[34;1m-\u001b[39;22m \u001b[39mInstalling \u001b[39m\u001b[36mcertifi\u001b[39m\u001b[39m (\u001b[39m\u001b[39;1m2025.7.9\u001b[39;22m\u001b[39m)\u001b[39m: \u001b[34mInstalling...\u001b[39m\n",
            "  \u001b[34;1m-\u001b[39;22m \u001b[39mInstalling \u001b[39m\u001b[36mcharset-normalizer\u001b[39m\u001b[39m (\u001b[39m\u001b[39;1m3.4.2\u001b[39;22m\u001b[39m)\u001b[39m: \u001b[34mDownloading...\u001b[39m \u001b[39;1m100%\u001b[39;22m\n",
            "  \u001b[32;1m-\u001b[39;22m \u001b[39mInstalling \u001b[39m\u001b[36midna\u001b[39m\u001b[39m (\u001b[39m\u001b[32m3.10\u001b[39m\u001b[39m)\u001b[39m\n",
            "  \u001b[34;1m-\u001b[39;22m \u001b[39mInstalling \u001b[39m\u001b[36mnumpy\u001b[39m\u001b[39m (\u001b[39m\u001b[39;1m2.0.2\u001b[39;22m\u001b[39m)\u001b[39m: \u001b[34mDownloading...\u001b[39m \u001b[39;1m0%\u001b[39;22m\n",
            "  \u001b[34;1m-\u001b[39;22m \u001b[39mInstalling \u001b[39m\u001b[36mpython-dateutil\u001b[39m\u001b[39m (\u001b[39m\u001b[39;1m2.9.0.post0\u001b[39;22m\u001b[39m)\u001b[39m: \u001b[34mDownloading...\u001b[39m \u001b[39;1m100%\u001b[39;22m\n",
            "  \u001b[34;1m-\u001b[39;22m \u001b[39mInstalling \u001b[39m\u001b[36mpytz\u001b[39m\u001b[39m (\u001b[39m\u001b[39;1m2025.2\u001b[39;22m\u001b[39m)\u001b[39m: \u001b[34mDownloading...\u001b[39m \u001b[39;1m0%\u001b[39;22m\n",
            "  \u001b[34;1m-\u001b[39;22m \u001b[39mInstalling \u001b[39m\u001b[36mtzdata\u001b[39m\u001b[39m (\u001b[39m\u001b[39;1m2025.2\u001b[39;22m\u001b[39m)\u001b[39m: \u001b[34mDownloading...\u001b[39m \u001b[39;1m100%\u001b[39;22m\n",
            "\u001b[3A\u001b[0J  \u001b[34;1m-\u001b[39;22m \u001b[39mInstalling \u001b[39m\u001b[36mpytz\u001b[39m\u001b[39m (\u001b[39m\u001b[39;1m2025.2\u001b[39;22m\u001b[39m)\u001b[39m: \u001b[34mDownloading...\u001b[39m \u001b[39;1m0%\u001b[39;22m\n",
            "  \u001b[34;1m-\u001b[39;22m \u001b[39mInstalling \u001b[39m\u001b[36mtzdata\u001b[39m\u001b[39m (\u001b[39m\u001b[39;1m2025.2\u001b[39;22m\u001b[39m)\u001b[39m: \u001b[34mDownloading...\u001b[39m \u001b[39;1m100%\u001b[39;22m\n",
            "\u001b[2A\u001b[0J  \u001b[34;1m-\u001b[39;22m \u001b[39mInstalling \u001b[39m\u001b[36mpython-dateutil\u001b[39m\u001b[39m (\u001b[39m\u001b[39;1m2.9.0.post0\u001b[39;22m\u001b[39m)\u001b[39m: \u001b[34mInstalling...\u001b[39m\n",
            "  \u001b[34;1m-\u001b[39;22m \u001b[39mInstalling \u001b[39m\u001b[36mpytz\u001b[39m\u001b[39m (\u001b[39m\u001b[39;1m2025.2\u001b[39;22m\u001b[39m)\u001b[39m: \u001b[34mDownloading...\u001b[39m \u001b[39;1m0%\u001b[39;22m\n",
            "  \u001b[34;1m-\u001b[39;22m \u001b[39mInstalling \u001b[39m\u001b[36mtzdata\u001b[39m\u001b[39m (\u001b[39m\u001b[39;1m2025.2\u001b[39;22m\u001b[39m)\u001b[39m: \u001b[34mDownloading...\u001b[39m \u001b[39;1m100%\u001b[39;22m\n",
            "\u001b[6A\u001b[0J  \u001b[32;1m-\u001b[39;22m \u001b[39mInstalling \u001b[39m\u001b[36midna\u001b[39m\u001b[39m (\u001b[39m\u001b[32m3.10\u001b[39m\u001b[39m)\u001b[39m\n",
            "  \u001b[34;1m-\u001b[39;22m \u001b[39mInstalling \u001b[39m\u001b[36mnumpy\u001b[39m\u001b[39m (\u001b[39m\u001b[39;1m2.0.2\u001b[39;22m\u001b[39m)\u001b[39m: \u001b[34mDownloading...\u001b[39m \u001b[39;1m0%\u001b[39;22m\n",
            "  \u001b[34;1m-\u001b[39;22m \u001b[39mInstalling \u001b[39m\u001b[36mpython-dateutil\u001b[39m\u001b[39m (\u001b[39m\u001b[39;1m2.9.0.post0\u001b[39;22m\u001b[39m)\u001b[39m: \u001b[34mInstalling...\u001b[39m\n",
            "  \u001b[34;1m-\u001b[39;22m \u001b[39mInstalling \u001b[39m\u001b[36mpytz\u001b[39m\u001b[39m (\u001b[39m\u001b[39;1m2025.2\u001b[39;22m\u001b[39m)\u001b[39m: \u001b[34mDownloading...\u001b[39m \u001b[39;1m0%\u001b[39;22m\n",
            "  \u001b[34;1m-\u001b[39;22m \u001b[39mInstalling \u001b[39m\u001b[36mtzdata\u001b[39m\u001b[39m (\u001b[39m\u001b[39;1m2025.2\u001b[39;22m\u001b[39m)\u001b[39m: \u001b[34mDownloading...\u001b[39m \u001b[39;1m100%\u001b[39;22m\n",
            "\u001b[5A\u001b[0J  \u001b[34;1m-\u001b[39;22m \u001b[39mInstalling \u001b[39m\u001b[36mcharset-normalizer\u001b[39m\u001b[39m (\u001b[39m\u001b[39;1m3.4.2\u001b[39;22m\u001b[39m)\u001b[39m: \u001b[34mInstalling...\u001b[39m\n",
            "  \u001b[32;1m-\u001b[39;22m \u001b[39mInstalling \u001b[39m\u001b[36midna\u001b[39m\u001b[39m (\u001b[39m\u001b[32m3.10\u001b[39m\u001b[39m)\u001b[39m\n",
            "  \u001b[34;1m-\u001b[39;22m \u001b[39mInstalling \u001b[39m\u001b[36mnumpy\u001b[39m\u001b[39m (\u001b[39m\u001b[39;1m2.0.2\u001b[39;22m\u001b[39m)\u001b[39m: \u001b[34mDownloading...\u001b[39m \u001b[39;1m0%\u001b[39;22m\n",
            "  \u001b[34;1m-\u001b[39;22m \u001b[39mInstalling \u001b[39m\u001b[36mpython-dateutil\u001b[39m\u001b[39m (\u001b[39m\u001b[39;1m2.9.0.post0\u001b[39;22m\u001b[39m)\u001b[39m: \u001b[34mInstalling...\u001b[39m\n",
            "  \u001b[34;1m-\u001b[39;22m \u001b[39mInstalling \u001b[39m\u001b[36mpytz\u001b[39m\u001b[39m (\u001b[39m\u001b[39;1m2025.2\u001b[39;22m\u001b[39m)\u001b[39m: \u001b[34mDownloading...\u001b[39m \u001b[39;1m0%\u001b[39;22m\n",
            "  \u001b[34;1m-\u001b[39;22m \u001b[39mInstalling \u001b[39m\u001b[36mtzdata\u001b[39m\u001b[39m (\u001b[39m\u001b[39;1m2025.2\u001b[39;22m\u001b[39m)\u001b[39m: \u001b[34mDownloading...\u001b[39m \u001b[39;1m100%\u001b[39;22m\n",
            "\u001b[1A\u001b[0J  \u001b[34;1m-\u001b[39;22m \u001b[39mInstalling \u001b[39m\u001b[36mtzdata\u001b[39m\u001b[39m (\u001b[39m\u001b[39;1m2025.2\u001b[39;22m\u001b[39m)\u001b[39m: \u001b[34mInstalling...\u001b[39m\n",
            "\u001b[2A\u001b[0J  \u001b[34;1m-\u001b[39;22m \u001b[39mInstalling \u001b[39m\u001b[36mtzdata\u001b[39m\u001b[39m (\u001b[39m\u001b[39;1m2025.2\u001b[39;22m\u001b[39m)\u001b[39m: \u001b[34mInstalling...\u001b[39m\n",
            "\u001b[1A\u001b[0J  \u001b[34;1m-\u001b[39;22m \u001b[39mInstalling \u001b[39m\u001b[36mpytz\u001b[39m\u001b[39m (\u001b[39m\u001b[39;1m2025.2\u001b[39;22m\u001b[39m)\u001b[39m: \u001b[34mDownloading...\u001b[39m \u001b[39;1m100%\u001b[39;22m\n",
            "  \u001b[34;1m-\u001b[39;22m \u001b[39mInstalling \u001b[39m\u001b[36mtzdata\u001b[39m\u001b[39m (\u001b[39m\u001b[39;1m2025.2\u001b[39;22m\u001b[39m)\u001b[39m: \u001b[34mInstalling...\u001b[39m\n",
            "\u001b[7A\u001b[0J  \u001b[34;1m-\u001b[39;22m \u001b[39mInstalling \u001b[39m\u001b[36mcharset-normalizer\u001b[39m\u001b[39m (\u001b[39m\u001b[39;1m3.4.2\u001b[39;22m\u001b[39m)\u001b[39m: \u001b[34mInstalling...\u001b[39m\n",
            "  \u001b[32;1m-\u001b[39;22m \u001b[39mInstalling \u001b[39m\u001b[36midna\u001b[39m\u001b[39m (\u001b[39m\u001b[32m3.10\u001b[39m\u001b[39m)\u001b[39m\n",
            "  \u001b[34;1m-\u001b[39;22m \u001b[39mInstalling \u001b[39m\u001b[36mnumpy\u001b[39m\u001b[39m (\u001b[39m\u001b[39;1m2.0.2\u001b[39;22m\u001b[39m)\u001b[39m: \u001b[34mDownloading...\u001b[39m \u001b[39;1m0%\u001b[39;22m\n",
            "  \u001b[34;1m-\u001b[39;22m \u001b[39mInstalling \u001b[39m\u001b[36mpython-dateutil\u001b[39m\u001b[39m (\u001b[39m\u001b[39;1m2.9.0.post0\u001b[39;22m\u001b[39m)\u001b[39m: \u001b[34mInstalling...\u001b[39m\n",
            "  \u001b[34;1m-\u001b[39;22m \u001b[39mInstalling \u001b[39m\u001b[36mpytz\u001b[39m\u001b[39m (\u001b[39m\u001b[39;1m2025.2\u001b[39;22m\u001b[39m)\u001b[39m: \u001b[34mDownloading...\u001b[39m \u001b[39;1m100%\u001b[39;22m\n",
            "  \u001b[34;1m-\u001b[39;22m \u001b[39mInstalling \u001b[39m\u001b[36mtzdata\u001b[39m\u001b[39m (\u001b[39m\u001b[39;1m2025.2\u001b[39;22m\u001b[39m)\u001b[39m: \u001b[34mInstalling...\u001b[39m\n",
            "\u001b[6A\u001b[0J  \u001b[32;1m-\u001b[39;22m \u001b[39mInstalling \u001b[39m\u001b[36mcertifi\u001b[39m\u001b[39m (\u001b[39m\u001b[32m2025.7.9\u001b[39m\u001b[39m)\u001b[39m\n",
            "  \u001b[34;1m-\u001b[39;22m \u001b[39mInstalling \u001b[39m\u001b[36mcharset-normalizer\u001b[39m\u001b[39m (\u001b[39m\u001b[39;1m3.4.2\u001b[39;22m\u001b[39m)\u001b[39m: \u001b[34mInstalling...\u001b[39m\n",
            "  \u001b[32;1m-\u001b[39;22m \u001b[39mInstalling \u001b[39m\u001b[36midna\u001b[39m\u001b[39m (\u001b[39m\u001b[32m3.10\u001b[39m\u001b[39m)\u001b[39m\n",
            "  \u001b[34;1m-\u001b[39;22m \u001b[39mInstalling \u001b[39m\u001b[36mnumpy\u001b[39m\u001b[39m (\u001b[39m\u001b[39;1m2.0.2\u001b[39;22m\u001b[39m)\u001b[39m: \u001b[34mDownloading...\u001b[39m \u001b[39;1m0%\u001b[39;22m\n",
            "  \u001b[34;1m-\u001b[39;22m \u001b[39mInstalling \u001b[39m\u001b[36mpython-dateutil\u001b[39m\u001b[39m (\u001b[39m\u001b[39;1m2.9.0.post0\u001b[39;22m\u001b[39m)\u001b[39m: \u001b[34mInstalling...\u001b[39m\n",
            "  \u001b[34;1m-\u001b[39;22m \u001b[39mInstalling \u001b[39m\u001b[36mpytz\u001b[39m\u001b[39m (\u001b[39m\u001b[39;1m2025.2\u001b[39;22m\u001b[39m)\u001b[39m: \u001b[34mDownloading...\u001b[39m \u001b[39;1m100%\u001b[39;22m\n",
            "  \u001b[34;1m-\u001b[39;22m \u001b[39mInstalling \u001b[39m\u001b[36mtzdata\u001b[39m\u001b[39m (\u001b[39m\u001b[39;1m2025.2\u001b[39;22m\u001b[39m)\u001b[39m: \u001b[34mInstalling...\u001b[39m\n",
            "  \u001b[34;1m-\u001b[39;22m \u001b[39mInstalling \u001b[39m\u001b[36murllib3\u001b[39m\u001b[39m (\u001b[39m\u001b[39;1m2.5.0\u001b[39;22m\u001b[39m)\u001b[39m: \u001b[34mPending...\u001b[39m\n",
            "\u001b[3A\u001b[0J  \u001b[34;1m-\u001b[39;22m \u001b[39mInstalling \u001b[39m\u001b[36mtzdata\u001b[39m\u001b[39m (\u001b[39m\u001b[39;1m2025.2\u001b[39;22m\u001b[39m)\u001b[39m: \u001b[34mInstalling...\u001b[39m\n",
            "  \u001b[34;1m-\u001b[39;22m \u001b[39mInstalling \u001b[39m\u001b[36murllib3\u001b[39m\u001b[39m (\u001b[39m\u001b[39;1m2.5.0\u001b[39;22m\u001b[39m)\u001b[39m: \u001b[34mPending...\u001b[39m\n",
            "\u001b[2A\u001b[0J  \u001b[34;1m-\u001b[39;22m \u001b[39mInstalling \u001b[39m\u001b[36mpytz\u001b[39m\u001b[39m (\u001b[39m\u001b[39;1m2025.2\u001b[39;22m\u001b[39m)\u001b[39m: \u001b[34mInstalling...\u001b[39m\n",
            "  \u001b[34;1m-\u001b[39;22m \u001b[39mInstalling \u001b[39m\u001b[36mtzdata\u001b[39m\u001b[39m (\u001b[39m\u001b[39;1m2025.2\u001b[39;22m\u001b[39m)\u001b[39m: \u001b[34mInstalling...\u001b[39m\n",
            "  \u001b[34;1m-\u001b[39;22m \u001b[39mInstalling \u001b[39m\u001b[36murllib3\u001b[39m\u001b[39m (\u001b[39m\u001b[39;1m2.5.0\u001b[39;22m\u001b[39m)\u001b[39m: \u001b[34mPending...\u001b[39m\n",
            "\u001b[1A\u001b[0J  \u001b[34;1m-\u001b[39;22m \u001b[39mInstalling \u001b[39m\u001b[36murllib3\u001b[39m\u001b[39m (\u001b[39m\u001b[39;1m2.5.0\u001b[39;22m\u001b[39m)\u001b[39m: \u001b[34mDownloading...\u001b[39m \u001b[39;1m0%\u001b[39;22m\n",
            "\u001b[1A\u001b[0J  \u001b[34;1m-\u001b[39;22m \u001b[39mInstalling \u001b[39m\u001b[36murllib3\u001b[39m\u001b[39m (\u001b[39m\u001b[39;1m2.5.0\u001b[39;22m\u001b[39m)\u001b[39m: \u001b[34mDownloading...\u001b[39m \u001b[39;1m100%\u001b[39;22m\n",
            "\u001b[1A\u001b[0J  \u001b[34;1m-\u001b[39;22m \u001b[39mInstalling \u001b[39m\u001b[36murllib3\u001b[39m\u001b[39m (\u001b[39m\u001b[39;1m2.5.0\u001b[39;22m\u001b[39m)\u001b[39m: \u001b[34mInstalling...\u001b[39m\n",
            "\u001b[4A\u001b[0J  \u001b[34;1m-\u001b[39;22m \u001b[39mInstalling \u001b[39m\u001b[36mpytz\u001b[39m\u001b[39m (\u001b[39m\u001b[39;1m2025.2\u001b[39;22m\u001b[39m)\u001b[39m: \u001b[34mInstalling...\u001b[39m\n",
            "  \u001b[34;1m-\u001b[39;22m \u001b[39mInstalling \u001b[39m\u001b[36mtzdata\u001b[39m\u001b[39m (\u001b[39m\u001b[39;1m2025.2\u001b[39;22m\u001b[39m)\u001b[39m: \u001b[34mInstalling...\u001b[39m\n",
            "  \u001b[34;1m-\u001b[39;22m \u001b[39mInstalling \u001b[39m\u001b[36murllib3\u001b[39m\u001b[39m (\u001b[39m\u001b[39;1m2.5.0\u001b[39;22m\u001b[39m)\u001b[39m: \u001b[34mInstalling...\u001b[39m\n",
            "\u001b[3A\u001b[0J  \u001b[32;1m-\u001b[39;22m \u001b[39mInstalling \u001b[39m\u001b[36mpython-dateutil\u001b[39m\u001b[39m (\u001b[39m\u001b[32m2.9.0.post0\u001b[39m\u001b[39m)\u001b[39m\n",
            "  \u001b[34;1m-\u001b[39;22m \u001b[39mInstalling \u001b[39m\u001b[36mpytz\u001b[39m\u001b[39m (\u001b[39m\u001b[39;1m2025.2\u001b[39;22m\u001b[39m)\u001b[39m: \u001b[34mInstalling...\u001b[39m\n",
            "  \u001b[34;1m-\u001b[39;22m \u001b[39mInstalling \u001b[39m\u001b[36mtzdata\u001b[39m\u001b[39m (\u001b[39m\u001b[39;1m2025.2\u001b[39;22m\u001b[39m)\u001b[39m: \u001b[34mInstalling...\u001b[39m\n",
            "  \u001b[34;1m-\u001b[39;22m \u001b[39mInstalling \u001b[39m\u001b[36murllib3\u001b[39m\u001b[39m (\u001b[39m\u001b[39;1m2.5.0\u001b[39;22m\u001b[39m)\u001b[39m: \u001b[34mInstalling...\u001b[39m\n",
            "\u001b[7A\u001b[0J  \u001b[32;1m-\u001b[39;22m \u001b[39mInstalling \u001b[39m\u001b[36midna\u001b[39m\u001b[39m (\u001b[39m\u001b[32m3.10\u001b[39m\u001b[39m)\u001b[39m\n",
            "  \u001b[34;1m-\u001b[39;22m \u001b[39mInstalling \u001b[39m\u001b[36mnumpy\u001b[39m\u001b[39m (\u001b[39m\u001b[39;1m2.0.2\u001b[39;22m\u001b[39m)\u001b[39m: \u001b[34mDownloading...\u001b[39m \u001b[39;1m0%\u001b[39;22m\n",
            "  \u001b[32;1m-\u001b[39;22m \u001b[39mInstalling \u001b[39m\u001b[36mpython-dateutil\u001b[39m\u001b[39m (\u001b[39m\u001b[32m2.9.0.post0\u001b[39m\u001b[39m)\u001b[39m\n",
            "  \u001b[34;1m-\u001b[39;22m \u001b[39mInstalling \u001b[39m\u001b[36mpytz\u001b[39m\u001b[39m (\u001b[39m\u001b[39;1m2025.2\u001b[39;22m\u001b[39m)\u001b[39m: \u001b[34mInstalling...\u001b[39m\n",
            "  \u001b[34;1m-\u001b[39;22m \u001b[39mInstalling \u001b[39m\u001b[36mtzdata\u001b[39m\u001b[39m (\u001b[39m\u001b[39;1m2025.2\u001b[39;22m\u001b[39m)\u001b[39m: \u001b[34mInstalling...\u001b[39m\n",
            "  \u001b[34;1m-\u001b[39;22m \u001b[39mInstalling \u001b[39m\u001b[36murllib3\u001b[39m\u001b[39m (\u001b[39m\u001b[39;1m2.5.0\u001b[39;22m\u001b[39m)\u001b[39m: \u001b[34mInstalling...\u001b[39m\n",
            "\u001b[6A\u001b[0J  \u001b[32;1m-\u001b[39;22m \u001b[39mInstalling \u001b[39m\u001b[36mcharset-normalizer\u001b[39m\u001b[39m (\u001b[39m\u001b[32m3.4.2\u001b[39m\u001b[39m)\u001b[39m\n",
            "  \u001b[32;1m-\u001b[39;22m \u001b[39mInstalling \u001b[39m\u001b[36midna\u001b[39m\u001b[39m (\u001b[39m\u001b[32m3.10\u001b[39m\u001b[39m)\u001b[39m\n",
            "  \u001b[34;1m-\u001b[39;22m \u001b[39mInstalling \u001b[39m\u001b[36mnumpy\u001b[39m\u001b[39m (\u001b[39m\u001b[39;1m2.0.2\u001b[39;22m\u001b[39m)\u001b[39m: \u001b[34mDownloading...\u001b[39m \u001b[39;1m0%\u001b[39;22m\n",
            "  \u001b[32;1m-\u001b[39;22m \u001b[39mInstalling \u001b[39m\u001b[36mpython-dateutil\u001b[39m\u001b[39m (\u001b[39m\u001b[32m2.9.0.post0\u001b[39m\u001b[39m)\u001b[39m\n",
            "  \u001b[34;1m-\u001b[39;22m \u001b[39mInstalling \u001b[39m\u001b[36mpytz\u001b[39m\u001b[39m (\u001b[39m\u001b[39;1m2025.2\u001b[39;22m\u001b[39m)\u001b[39m: \u001b[34mInstalling...\u001b[39m\n",
            "  \u001b[34;1m-\u001b[39;22m \u001b[39mInstalling \u001b[39m\u001b[36mtzdata\u001b[39m\u001b[39m (\u001b[39m\u001b[39;1m2025.2\u001b[39;22m\u001b[39m)\u001b[39m: \u001b[34mInstalling...\u001b[39m\n",
            "  \u001b[34;1m-\u001b[39;22m \u001b[39mInstalling \u001b[39m\u001b[36murllib3\u001b[39m\u001b[39m (\u001b[39m\u001b[39;1m2.5.0\u001b[39;22m\u001b[39m)\u001b[39m: \u001b[34mInstalling...\u001b[39m\n",
            "\u001b[1A\u001b[0J  \u001b[32;1m-\u001b[39;22m \u001b[39mInstalling \u001b[39m\u001b[36murllib3\u001b[39m\u001b[39m (\u001b[39m\u001b[32m2.5.0\u001b[39m\u001b[39m)\u001b[39m\n",
            "\u001b[5A\u001b[0J  \u001b[32;1m-\u001b[39;22m \u001b[39mInstalling \u001b[39m\u001b[36mpython-dateutil\u001b[39m\u001b[39m (\u001b[39m\u001b[32m2.9.0.post0\u001b[39m\u001b[39m)\u001b[39m\n",
            "  \u001b[34;1m-\u001b[39;22m \u001b[39mInstalling \u001b[39m\u001b[36mpytz\u001b[39m\u001b[39m (\u001b[39m\u001b[39;1m2025.2\u001b[39;22m\u001b[39m)\u001b[39m: \u001b[34mInstalling...\u001b[39m\n",
            "  \u001b[34;1m-\u001b[39;22m \u001b[39mInstalling \u001b[39m\u001b[36mtzdata\u001b[39m\u001b[39m (\u001b[39m\u001b[39;1m2025.2\u001b[39;22m\u001b[39m)\u001b[39m: \u001b[34mInstalling...\u001b[39m\n",
            "  \u001b[32;1m-\u001b[39;22m \u001b[39mInstalling \u001b[39m\u001b[36murllib3\u001b[39m\u001b[39m (\u001b[39m\u001b[32m2.5.0\u001b[39m\u001b[39m)\u001b[39m\n",
            "\u001b[4A\u001b[0J  \u001b[34;1m-\u001b[39;22m \u001b[39mInstalling \u001b[39m\u001b[36mnumpy\u001b[39m\u001b[39m (\u001b[39m\u001b[39;1m2.0.2\u001b[39;22m\u001b[39m)\u001b[39m: \u001b[34mDownloading...\u001b[39m \u001b[39;1m10%\u001b[39;22m\n",
            "  \u001b[32;1m-\u001b[39;22m \u001b[39mInstalling \u001b[39m\u001b[36mpython-dateutil\u001b[39m\u001b[39m (\u001b[39m\u001b[32m2.9.0.post0\u001b[39m\u001b[39m)\u001b[39m\n",
            "  \u001b[34;1m-\u001b[39;22m \u001b[39mInstalling \u001b[39m\u001b[36mpytz\u001b[39m\u001b[39m (\u001b[39m\u001b[39;1m2025.2\u001b[39;22m\u001b[39m)\u001b[39m: \u001b[34mInstalling...\u001b[39m\n",
            "  \u001b[34;1m-\u001b[39;22m \u001b[39mInstalling \u001b[39m\u001b[36mtzdata\u001b[39m\u001b[39m (\u001b[39m\u001b[39;1m2025.2\u001b[39;22m\u001b[39m)\u001b[39m: \u001b[34mInstalling...\u001b[39m\n",
            "  \u001b[32;1m-\u001b[39;22m \u001b[39mInstalling \u001b[39m\u001b[36murllib3\u001b[39m\u001b[39m (\u001b[39m\u001b[32m2.5.0\u001b[39m\u001b[39m)\u001b[39m\n",
            "\u001b[5A\u001b[0J  \u001b[32;1m-\u001b[39;22m \u001b[39mInstalling \u001b[39m\u001b[36mpython-dateutil\u001b[39m\u001b[39m (\u001b[39m\u001b[32m2.9.0.post0\u001b[39m\u001b[39m)\u001b[39m\n",
            "  \u001b[34;1m-\u001b[39;22m \u001b[39mInstalling \u001b[39m\u001b[36mpytz\u001b[39m\u001b[39m (\u001b[39m\u001b[39;1m2025.2\u001b[39;22m\u001b[39m)\u001b[39m: \u001b[34mInstalling...\u001b[39m\n",
            "  \u001b[34;1m-\u001b[39;22m \u001b[39mInstalling \u001b[39m\u001b[36mtzdata\u001b[39m\u001b[39m (\u001b[39m\u001b[39;1m2025.2\u001b[39;22m\u001b[39m)\u001b[39m: \u001b[34mInstalling...\u001b[39m\n",
            "  \u001b[32;1m-\u001b[39;22m \u001b[39mInstalling \u001b[39m\u001b[36murllib3\u001b[39m\u001b[39m (\u001b[39m\u001b[32m2.5.0\u001b[39m\u001b[39m)\u001b[39m\n",
            "\u001b[4A\u001b[0J  \u001b[34;1m-\u001b[39;22m \u001b[39mInstalling \u001b[39m\u001b[36mnumpy\u001b[39m\u001b[39m (\u001b[39m\u001b[39;1m2.0.2\u001b[39;22m\u001b[39m)\u001b[39m: \u001b[34mDownloading...\u001b[39m \u001b[39;1m20%\u001b[39;22m\n",
            "  \u001b[32;1m-\u001b[39;22m \u001b[39mInstalling \u001b[39m\u001b[36mpython-dateutil\u001b[39m\u001b[39m (\u001b[39m\u001b[32m2.9.0.post0\u001b[39m\u001b[39m)\u001b[39m\n",
            "  \u001b[34;1m-\u001b[39;22m \u001b[39mInstalling \u001b[39m\u001b[36mpytz\u001b[39m\u001b[39m (\u001b[39m\u001b[39;1m2025.2\u001b[39;22m\u001b[39m)\u001b[39m: \u001b[34mInstalling...\u001b[39m\n",
            "  \u001b[34;1m-\u001b[39;22m \u001b[39mInstalling \u001b[39m\u001b[36mtzdata\u001b[39m\u001b[39m (\u001b[39m\u001b[39;1m2025.2\u001b[39;22m\u001b[39m)\u001b[39m: \u001b[34mInstalling...\u001b[39m\n",
            "  \u001b[32;1m-\u001b[39;22m \u001b[39mInstalling \u001b[39m\u001b[36murllib3\u001b[39m\u001b[39m (\u001b[39m\u001b[32m2.5.0\u001b[39m\u001b[39m)\u001b[39m\n",
            "\u001b[5A\u001b[0J  \u001b[32;1m-\u001b[39;22m \u001b[39mInstalling \u001b[39m\u001b[36mpython-dateutil\u001b[39m\u001b[39m (\u001b[39m\u001b[32m2.9.0.post0\u001b[39m\u001b[39m)\u001b[39m\n",
            "  \u001b[34;1m-\u001b[39;22m \u001b[39mInstalling \u001b[39m\u001b[36mpytz\u001b[39m\u001b[39m (\u001b[39m\u001b[39;1m2025.2\u001b[39;22m\u001b[39m)\u001b[39m: \u001b[34mInstalling...\u001b[39m\n",
            "  \u001b[34;1m-\u001b[39;22m \u001b[39mInstalling \u001b[39m\u001b[36mtzdata\u001b[39m\u001b[39m (\u001b[39m\u001b[39;1m2025.2\u001b[39;22m\u001b[39m)\u001b[39m: \u001b[34mInstalling...\u001b[39m\n",
            "  \u001b[32;1m-\u001b[39;22m \u001b[39mInstalling \u001b[39m\u001b[36murllib3\u001b[39m\u001b[39m (\u001b[39m\u001b[32m2.5.0\u001b[39m\u001b[39m)\u001b[39m\n",
            "\u001b[4A\u001b[0J  \u001b[34;1m-\u001b[39;22m \u001b[39mInstalling \u001b[39m\u001b[36mnumpy\u001b[39m\u001b[39m (\u001b[39m\u001b[39;1m2.0.2\u001b[39;22m\u001b[39m)\u001b[39m: \u001b[34mDownloading...\u001b[39m \u001b[39;1m40%\u001b[39;22m\n",
            "  \u001b[32;1m-\u001b[39;22m \u001b[39mInstalling \u001b[39m\u001b[36mpython-dateutil\u001b[39m\u001b[39m (\u001b[39m\u001b[32m2.9.0.post0\u001b[39m\u001b[39m)\u001b[39m\n",
            "  \u001b[34;1m-\u001b[39;22m \u001b[39mInstalling \u001b[39m\u001b[36mpytz\u001b[39m\u001b[39m (\u001b[39m\u001b[39;1m2025.2\u001b[39;22m\u001b[39m)\u001b[39m: \u001b[34mInstalling...\u001b[39m\n",
            "  \u001b[34;1m-\u001b[39;22m \u001b[39mInstalling \u001b[39m\u001b[36mtzdata\u001b[39m\u001b[39m (\u001b[39m\u001b[39;1m2025.2\u001b[39;22m\u001b[39m)\u001b[39m: \u001b[34mInstalling...\u001b[39m\n",
            "  \u001b[32;1m-\u001b[39;22m \u001b[39mInstalling \u001b[39m\u001b[36murllib3\u001b[39m\u001b[39m (\u001b[39m\u001b[32m2.5.0\u001b[39m\u001b[39m)\u001b[39m\n",
            "\u001b[5A\u001b[0J  \u001b[32;1m-\u001b[39;22m \u001b[39mInstalling \u001b[39m\u001b[36mpython-dateutil\u001b[39m\u001b[39m (\u001b[39m\u001b[32m2.9.0.post0\u001b[39m\u001b[39m)\u001b[39m\n",
            "  \u001b[34;1m-\u001b[39;22m \u001b[39mInstalling \u001b[39m\u001b[36mpytz\u001b[39m\u001b[39m (\u001b[39m\u001b[39;1m2025.2\u001b[39;22m\u001b[39m)\u001b[39m: \u001b[34mInstalling...\u001b[39m\n",
            "  \u001b[34;1m-\u001b[39;22m \u001b[39mInstalling \u001b[39m\u001b[36mtzdata\u001b[39m\u001b[39m (\u001b[39m\u001b[39;1m2025.2\u001b[39;22m\u001b[39m)\u001b[39m: \u001b[34mInstalling...\u001b[39m\n",
            "  \u001b[32;1m-\u001b[39;22m \u001b[39mInstalling \u001b[39m\u001b[36murllib3\u001b[39m\u001b[39m (\u001b[39m\u001b[32m2.5.0\u001b[39m\u001b[39m)\u001b[39m\n",
            "\u001b[4A\u001b[0J  \u001b[34;1m-\u001b[39;22m \u001b[39mInstalling \u001b[39m\u001b[36mnumpy\u001b[39m\u001b[39m (\u001b[39m\u001b[39;1m2.0.2\u001b[39;22m\u001b[39m)\u001b[39m: \u001b[34mDownloading...\u001b[39m \u001b[39;1m50%\u001b[39;22m\n",
            "  \u001b[32;1m-\u001b[39;22m \u001b[39mInstalling \u001b[39m\u001b[36mpython-dateutil\u001b[39m\u001b[39m (\u001b[39m\u001b[32m2.9.0.post0\u001b[39m\u001b[39m)\u001b[39m\n",
            "  \u001b[34;1m-\u001b[39;22m \u001b[39mInstalling \u001b[39m\u001b[36mpytz\u001b[39m\u001b[39m (\u001b[39m\u001b[39;1m2025.2\u001b[39;22m\u001b[39m)\u001b[39m: \u001b[34mInstalling...\u001b[39m\n",
            "  \u001b[34;1m-\u001b[39;22m \u001b[39mInstalling \u001b[39m\u001b[36mtzdata\u001b[39m\u001b[39m (\u001b[39m\u001b[39;1m2025.2\u001b[39;22m\u001b[39m)\u001b[39m: \u001b[34mInstalling...\u001b[39m\n",
            "  \u001b[32;1m-\u001b[39;22m \u001b[39mInstalling \u001b[39m\u001b[36murllib3\u001b[39m\u001b[39m (\u001b[39m\u001b[32m2.5.0\u001b[39m\u001b[39m)\u001b[39m\n",
            "\u001b[3A\u001b[0J  \u001b[34;1m-\u001b[39;22m \u001b[39mInstalling \u001b[39m\u001b[36mtzdata\u001b[39m\u001b[39m (\u001b[39m\u001b[39;1m2025.2\u001b[39;22m\u001b[39m)\u001b[39m: \u001b[34mInstalling...\u001b[39m\n",
            "  \u001b[32;1m-\u001b[39;22m \u001b[39mInstalling \u001b[39m\u001b[36murllib3\u001b[39m\u001b[39m (\u001b[39m\u001b[32m2.5.0\u001b[39m\u001b[39m)\u001b[39m\n",
            "\u001b[2A\u001b[0J  \u001b[32;1m-\u001b[39;22m \u001b[39mInstalling \u001b[39m\u001b[36mpytz\u001b[39m\u001b[39m (\u001b[39m\u001b[32m2025.2\u001b[39m\u001b[39m)\u001b[39m\n",
            "  \u001b[34;1m-\u001b[39;22m \u001b[39mInstalling \u001b[39m\u001b[36mtzdata\u001b[39m\u001b[39m (\u001b[39m\u001b[39;1m2025.2\u001b[39;22m\u001b[39m)\u001b[39m: \u001b[34mInstalling...\u001b[39m\n",
            "  \u001b[32;1m-\u001b[39;22m \u001b[39mInstalling \u001b[39m\u001b[36murllib3\u001b[39m\u001b[39m (\u001b[39m\u001b[32m2.5.0\u001b[39m\u001b[39m)\u001b[39m\n",
            "\u001b[5A\u001b[0J  \u001b[32;1m-\u001b[39;22m \u001b[39mInstalling \u001b[39m\u001b[36mpython-dateutil\u001b[39m\u001b[39m (\u001b[39m\u001b[32m2.9.0.post0\u001b[39m\u001b[39m)\u001b[39m\n",
            "  \u001b[32;1m-\u001b[39;22m \u001b[39mInstalling \u001b[39m\u001b[36mpytz\u001b[39m\u001b[39m (\u001b[39m\u001b[32m2025.2\u001b[39m\u001b[39m)\u001b[39m\n",
            "  \u001b[34;1m-\u001b[39;22m \u001b[39mInstalling \u001b[39m\u001b[36mtzdata\u001b[39m\u001b[39m (\u001b[39m\u001b[39;1m2025.2\u001b[39;22m\u001b[39m)\u001b[39m: \u001b[34mInstalling...\u001b[39m\n",
            "  \u001b[32;1m-\u001b[39;22m \u001b[39mInstalling \u001b[39m\u001b[36murllib3\u001b[39m\u001b[39m (\u001b[39m\u001b[32m2.5.0\u001b[39m\u001b[39m)\u001b[39m\n",
            "\u001b[4A\u001b[0J  \u001b[34;1m-\u001b[39;22m \u001b[39mInstalling \u001b[39m\u001b[36mnumpy\u001b[39m\u001b[39m (\u001b[39m\u001b[39;1m2.0.2\u001b[39;22m\u001b[39m)\u001b[39m: \u001b[34mDownloading...\u001b[39m \u001b[39;1m70%\u001b[39;22m\n",
            "  \u001b[32;1m-\u001b[39;22m \u001b[39mInstalling \u001b[39m\u001b[36mpython-dateutil\u001b[39m\u001b[39m (\u001b[39m\u001b[32m2.9.0.post0\u001b[39m\u001b[39m)\u001b[39m\n",
            "  \u001b[32;1m-\u001b[39;22m \u001b[39mInstalling \u001b[39m\u001b[36mpytz\u001b[39m\u001b[39m (\u001b[39m\u001b[32m2025.2\u001b[39m\u001b[39m)\u001b[39m\n",
            "  \u001b[34;1m-\u001b[39;22m \u001b[39mInstalling \u001b[39m\u001b[36mtzdata\u001b[39m\u001b[39m (\u001b[39m\u001b[39;1m2025.2\u001b[39;22m\u001b[39m)\u001b[39m: \u001b[34mInstalling...\u001b[39m\n",
            "  \u001b[32;1m-\u001b[39;22m \u001b[39mInstalling \u001b[39m\u001b[36murllib3\u001b[39m\u001b[39m (\u001b[39m\u001b[32m2.5.0\u001b[39m\u001b[39m)\u001b[39m\n",
            "\u001b[2A\u001b[0J  \u001b[32;1m-\u001b[39;22m \u001b[39mInstalling \u001b[39m\u001b[36murllib3\u001b[39m\u001b[39m (\u001b[39m\u001b[32m2.5.0\u001b[39m\u001b[39m)\u001b[39m\n",
            "\u001b[1A\u001b[0J  \u001b[32;1m-\u001b[39;22m \u001b[39mInstalling \u001b[39m\u001b[36mtzdata\u001b[39m\u001b[39m (\u001b[39m\u001b[32m2025.2\u001b[39m\u001b[39m)\u001b[39m\n",
            "  \u001b[32;1m-\u001b[39;22m \u001b[39mInstalling \u001b[39m\u001b[36murllib3\u001b[39m\u001b[39m (\u001b[39m\u001b[32m2.5.0\u001b[39m\u001b[39m)\u001b[39m\n",
            "\u001b[5A\u001b[0J  \u001b[32;1m-\u001b[39;22m \u001b[39mInstalling \u001b[39m\u001b[36mpython-dateutil\u001b[39m\u001b[39m (\u001b[39m\u001b[32m2.9.0.post0\u001b[39m\u001b[39m)\u001b[39m\n",
            "  \u001b[32;1m-\u001b[39;22m \u001b[39mInstalling \u001b[39m\u001b[36mpytz\u001b[39m\u001b[39m (\u001b[39m\u001b[32m2025.2\u001b[39m\u001b[39m)\u001b[39m\n",
            "  \u001b[32;1m-\u001b[39;22m \u001b[39mInstalling \u001b[39m\u001b[36mtzdata\u001b[39m\u001b[39m (\u001b[39m\u001b[32m2025.2\u001b[39m\u001b[39m)\u001b[39m\n",
            "  \u001b[32;1m-\u001b[39;22m \u001b[39mInstalling \u001b[39m\u001b[36murllib3\u001b[39m\u001b[39m (\u001b[39m\u001b[32m2.5.0\u001b[39m\u001b[39m)\u001b[39m\n",
            "\u001b[4A\u001b[0J  \u001b[34;1m-\u001b[39;22m \u001b[39mInstalling \u001b[39m\u001b[36mnumpy\u001b[39m\u001b[39m (\u001b[39m\u001b[39;1m2.0.2\u001b[39;22m\u001b[39m)\u001b[39m: \u001b[34mDownloading...\u001b[39m \u001b[39;1m100%\u001b[39;22m\n",
            "  \u001b[32;1m-\u001b[39;22m \u001b[39mInstalling \u001b[39m\u001b[36mpython-dateutil\u001b[39m\u001b[39m (\u001b[39m\u001b[32m2.9.0.post0\u001b[39m\u001b[39m)\u001b[39m\n",
            "  \u001b[32;1m-\u001b[39;22m \u001b[39mInstalling \u001b[39m\u001b[36mpytz\u001b[39m\u001b[39m (\u001b[39m\u001b[32m2025.2\u001b[39m\u001b[39m)\u001b[39m\n",
            "  \u001b[32;1m-\u001b[39;22m \u001b[39mInstalling \u001b[39m\u001b[36mtzdata\u001b[39m\u001b[39m (\u001b[39m\u001b[32m2025.2\u001b[39m\u001b[39m)\u001b[39m\n",
            "  \u001b[32;1m-\u001b[39;22m \u001b[39mInstalling \u001b[39m\u001b[36murllib3\u001b[39m\u001b[39m (\u001b[39m\u001b[32m2.5.0\u001b[39m\u001b[39m)\u001b[39m\n",
            "\u001b[5A\u001b[0J  \u001b[32;1m-\u001b[39;22m \u001b[39mInstalling \u001b[39m\u001b[36mpython-dateutil\u001b[39m\u001b[39m (\u001b[39m\u001b[32m2.9.0.post0\u001b[39m\u001b[39m)\u001b[39m\n",
            "  \u001b[32;1m-\u001b[39;22m \u001b[39mInstalling \u001b[39m\u001b[36mpytz\u001b[39m\u001b[39m (\u001b[39m\u001b[32m2025.2\u001b[39m\u001b[39m)\u001b[39m\n",
            "  \u001b[32;1m-\u001b[39;22m \u001b[39mInstalling \u001b[39m\u001b[36mtzdata\u001b[39m\u001b[39m (\u001b[39m\u001b[32m2025.2\u001b[39m\u001b[39m)\u001b[39m\n",
            "  \u001b[32;1m-\u001b[39;22m \u001b[39mInstalling \u001b[39m\u001b[36murllib3\u001b[39m\u001b[39m (\u001b[39m\u001b[32m2.5.0\u001b[39m\u001b[39m)\u001b[39m\n",
            "\u001b[4A\u001b[0J  \u001b[34;1m-\u001b[39;22m \u001b[39mInstalling \u001b[39m\u001b[36mnumpy\u001b[39m\u001b[39m (\u001b[39m\u001b[39;1m2.0.2\u001b[39;22m\u001b[39m)\u001b[39m: \u001b[34mInstalling...\u001b[39m\n",
            "  \u001b[32;1m-\u001b[39;22m \u001b[39mInstalling \u001b[39m\u001b[36mpython-dateutil\u001b[39m\u001b[39m (\u001b[39m\u001b[32m2.9.0.post0\u001b[39m\u001b[39m)\u001b[39m\n",
            "  \u001b[32;1m-\u001b[39;22m \u001b[39mInstalling \u001b[39m\u001b[36mpytz\u001b[39m\u001b[39m (\u001b[39m\u001b[32m2025.2\u001b[39m\u001b[39m)\u001b[39m\n",
            "  \u001b[32;1m-\u001b[39;22m \u001b[39mInstalling \u001b[39m\u001b[36mtzdata\u001b[39m\u001b[39m (\u001b[39m\u001b[32m2025.2\u001b[39m\u001b[39m)\u001b[39m\n",
            "  \u001b[32;1m-\u001b[39;22m \u001b[39mInstalling \u001b[39m\u001b[36murllib3\u001b[39m\u001b[39m (\u001b[39m\u001b[32m2.5.0\u001b[39m\u001b[39m)\u001b[39m\n",
            "\u001b[5A\u001b[0J  \u001b[32;1m-\u001b[39;22m \u001b[39mInstalling \u001b[39m\u001b[36mpython-dateutil\u001b[39m\u001b[39m (\u001b[39m\u001b[32m2.9.0.post0\u001b[39m\u001b[39m)\u001b[39m\n",
            "  \u001b[32;1m-\u001b[39;22m \u001b[39mInstalling \u001b[39m\u001b[36mpytz\u001b[39m\u001b[39m (\u001b[39m\u001b[32m2025.2\u001b[39m\u001b[39m)\u001b[39m\n",
            "  \u001b[32;1m-\u001b[39;22m \u001b[39mInstalling \u001b[39m\u001b[36mtzdata\u001b[39m\u001b[39m (\u001b[39m\u001b[32m2025.2\u001b[39m\u001b[39m)\u001b[39m\n",
            "  \u001b[32;1m-\u001b[39;22m \u001b[39mInstalling \u001b[39m\u001b[36murllib3\u001b[39m\u001b[39m (\u001b[39m\u001b[32m2.5.0\u001b[39m\u001b[39m)\u001b[39m\n",
            "\u001b[4A\u001b[0J  \u001b[32;1m-\u001b[39;22m \u001b[39mInstalling \u001b[39m\u001b[36mnumpy\u001b[39m\u001b[39m (\u001b[39m\u001b[32m2.0.2\u001b[39m\u001b[39m)\u001b[39m\n",
            "  \u001b[32;1m-\u001b[39;22m \u001b[39mInstalling \u001b[39m\u001b[36mpython-dateutil\u001b[39m\u001b[39m (\u001b[39m\u001b[32m2.9.0.post0\u001b[39m\u001b[39m)\u001b[39m\n",
            "  \u001b[32;1m-\u001b[39;22m \u001b[39mInstalling \u001b[39m\u001b[36mpytz\u001b[39m\u001b[39m (\u001b[39m\u001b[32m2025.2\u001b[39m\u001b[39m)\u001b[39m\n",
            "  \u001b[32;1m-\u001b[39;22m \u001b[39mInstalling \u001b[39m\u001b[36mtzdata\u001b[39m\u001b[39m (\u001b[39m\u001b[32m2025.2\u001b[39m\u001b[39m)\u001b[39m\n",
            "  \u001b[32;1m-\u001b[39;22m \u001b[39mInstalling \u001b[39m\u001b[36murllib3\u001b[39m\u001b[39m (\u001b[39m\u001b[32m2.5.0\u001b[39m\u001b[39m)\u001b[39m\n",
            "  \u001b[34;1m-\u001b[39;22m \u001b[39mInstalling \u001b[39m\u001b[36mlxml\u001b[39m\u001b[39m (\u001b[39m\u001b[39;1m6.0.0\u001b[39;22m\u001b[39m)\u001b[39m: \u001b[34mPending...\u001b[39m\n",
            "  \u001b[34;1m-\u001b[39;22m \u001b[39mInstalling \u001b[39m\u001b[36mpandas\u001b[39m\u001b[39m (\u001b[39m\u001b[39;1m2.3.1\u001b[39;22m\u001b[39m)\u001b[39m: \u001b[34mPending...\u001b[39m\n",
            "  \u001b[34;1m-\u001b[39;22m \u001b[39mInstalling \u001b[39m\u001b[36mrequests\u001b[39m\u001b[39m (\u001b[39m\u001b[39;1m2.32.4\u001b[39;22m\u001b[39m)\u001b[39m: \u001b[34mPending...\u001b[39m\n",
            "\u001b[1A\u001b[0J  \u001b[34;1m-\u001b[39;22m \u001b[39mInstalling \u001b[39m\u001b[36mrequests\u001b[39m\u001b[39m (\u001b[39m\u001b[39;1m2.32.4\u001b[39;22m\u001b[39m)\u001b[39m: \u001b[34mDownloading...\u001b[39m \u001b[39;1m0%\u001b[39;22m\n",
            "\u001b[1A\u001b[0J  \u001b[34;1m-\u001b[39;22m \u001b[39mInstalling \u001b[39m\u001b[36mrequests\u001b[39m\u001b[39m (\u001b[39m\u001b[39;1m2.32.4\u001b[39;22m\u001b[39m)\u001b[39m: \u001b[34mDownloading...\u001b[39m \u001b[39;1m100%\u001b[39;22m\n",
            "\u001b[1A\u001b[0J  \u001b[34;1m-\u001b[39;22m \u001b[39mInstalling \u001b[39m\u001b[36mrequests\u001b[39m\u001b[39m (\u001b[39m\u001b[39;1m2.32.4\u001b[39;22m\u001b[39m)\u001b[39m: \u001b[34mInstalling...\u001b[39m\n",
            "\u001b[2A\u001b[0J  \u001b[34;1m-\u001b[39;22m \u001b[39mInstalling \u001b[39m\u001b[36mrequests\u001b[39m\u001b[39m (\u001b[39m\u001b[39;1m2.32.4\u001b[39;22m\u001b[39m)\u001b[39m: \u001b[34mInstalling...\u001b[39m\n",
            "\u001b[1A\u001b[0J  \u001b[34;1m-\u001b[39;22m \u001b[39mInstalling \u001b[39m\u001b[36mpandas\u001b[39m\u001b[39m (\u001b[39m\u001b[39;1m2.3.1\u001b[39;22m\u001b[39m)\u001b[39m: \u001b[34mDownloading...\u001b[39m \u001b[39;1m0%\u001b[39;22m\n",
            "  \u001b[34;1m-\u001b[39;22m \u001b[39mInstalling \u001b[39m\u001b[36mrequests\u001b[39m\u001b[39m (\u001b[39m\u001b[39;1m2.32.4\u001b[39;22m\u001b[39m)\u001b[39m: \u001b[34mInstalling...\u001b[39m\n",
            "\u001b[1A\u001b[0J  \u001b[32;1m-\u001b[39;22m \u001b[39mInstalling \u001b[39m\u001b[36mrequests\u001b[39m\u001b[39m (\u001b[39m\u001b[32m2.32.4\u001b[39m\u001b[39m)\u001b[39m\n",
            "\u001b[3A\u001b[0J  \u001b[34;1m-\u001b[39;22m \u001b[39mInstalling \u001b[39m\u001b[36mpandas\u001b[39m\u001b[39m (\u001b[39m\u001b[39;1m2.3.1\u001b[39;22m\u001b[39m)\u001b[39m: \u001b[34mDownloading...\u001b[39m \u001b[39;1m0%\u001b[39;22m\n",
            "  \u001b[32;1m-\u001b[39;22m \u001b[39mInstalling \u001b[39m\u001b[36mrequests\u001b[39m\u001b[39m (\u001b[39m\u001b[32m2.32.4\u001b[39m\u001b[39m)\u001b[39m\n",
            "\u001b[2A\u001b[0J  \u001b[34;1m-\u001b[39;22m \u001b[39mInstalling \u001b[39m\u001b[36mlxml\u001b[39m\u001b[39m (\u001b[39m\u001b[39;1m6.0.0\u001b[39;22m\u001b[39m)\u001b[39m: \u001b[34mDownloading...\u001b[39m \u001b[39;1m0%\u001b[39;22m\n",
            "  \u001b[34;1m-\u001b[39;22m \u001b[39mInstalling \u001b[39m\u001b[36mpandas\u001b[39m\u001b[39m (\u001b[39m\u001b[39;1m2.3.1\u001b[39;22m\u001b[39m)\u001b[39m: \u001b[34mDownloading...\u001b[39m \u001b[39;1m0%\u001b[39;22m\n",
            "  \u001b[32;1m-\u001b[39;22m \u001b[39mInstalling \u001b[39m\u001b[36mrequests\u001b[39m\u001b[39m (\u001b[39m\u001b[32m2.32.4\u001b[39m\u001b[39m)\u001b[39m\n",
            "\u001b[2A\u001b[0J  \u001b[32;1m-\u001b[39;22m \u001b[39mInstalling \u001b[39m\u001b[36mrequests\u001b[39m\u001b[39m (\u001b[39m\u001b[32m2.32.4\u001b[39m\u001b[39m)\u001b[39m\n",
            "\u001b[1A\u001b[0J  \u001b[34;1m-\u001b[39;22m \u001b[39mInstalling \u001b[39m\u001b[36mpandas\u001b[39m\u001b[39m (\u001b[39m\u001b[39;1m2.3.1\u001b[39;22m\u001b[39m)\u001b[39m: \u001b[34mDownloading...\u001b[39m \u001b[39;1m20%\u001b[39;22m\n",
            "  \u001b[32;1m-\u001b[39;22m \u001b[39mInstalling \u001b[39m\u001b[36mrequests\u001b[39m\u001b[39m (\u001b[39m\u001b[32m2.32.4\u001b[39m\u001b[39m)\u001b[39m\n",
            "\u001b[3A\u001b[0J  \u001b[34;1m-\u001b[39;22m \u001b[39mInstalling \u001b[39m\u001b[36mpandas\u001b[39m\u001b[39m (\u001b[39m\u001b[39;1m2.3.1\u001b[39;22m\u001b[39m)\u001b[39m: \u001b[34mDownloading...\u001b[39m \u001b[39;1m20%\u001b[39;22m\n",
            "  \u001b[32;1m-\u001b[39;22m \u001b[39mInstalling \u001b[39m\u001b[36mrequests\u001b[39m\u001b[39m (\u001b[39m\u001b[32m2.32.4\u001b[39m\u001b[39m)\u001b[39m\n",
            "\u001b[2A\u001b[0J  \u001b[34;1m-\u001b[39;22m \u001b[39mInstalling \u001b[39m\u001b[36mlxml\u001b[39m\u001b[39m (\u001b[39m\u001b[39;1m6.0.0\u001b[39;22m\u001b[39m)\u001b[39m: \u001b[34mDownloading...\u001b[39m \u001b[39;1m70%\u001b[39;22m\n",
            "  \u001b[34;1m-\u001b[39;22m \u001b[39mInstalling \u001b[39m\u001b[36mpandas\u001b[39m\u001b[39m (\u001b[39m\u001b[39;1m2.3.1\u001b[39;22m\u001b[39m)\u001b[39m: \u001b[34mDownloading...\u001b[39m \u001b[39;1m20%\u001b[39;22m\n",
            "  \u001b[32;1m-\u001b[39;22m \u001b[39mInstalling \u001b[39m\u001b[36mrequests\u001b[39m\u001b[39m (\u001b[39m\u001b[32m2.32.4\u001b[39m\u001b[39m)\u001b[39m\n",
            "\u001b[2A\u001b[0J  \u001b[32;1m-\u001b[39;22m \u001b[39mInstalling \u001b[39m\u001b[36mrequests\u001b[39m\u001b[39m (\u001b[39m\u001b[32m2.32.4\u001b[39m\u001b[39m)\u001b[39m\n",
            "\u001b[1A\u001b[0J  \u001b[34;1m-\u001b[39;22m \u001b[39mInstalling \u001b[39m\u001b[36mpandas\u001b[39m\u001b[39m (\u001b[39m\u001b[39;1m2.3.1\u001b[39;22m\u001b[39m)\u001b[39m: \u001b[34mDownloading...\u001b[39m \u001b[39;1m50%\u001b[39;22m\n",
            "  \u001b[32;1m-\u001b[39;22m \u001b[39mInstalling \u001b[39m\u001b[36mrequests\u001b[39m\u001b[39m (\u001b[39m\u001b[32m2.32.4\u001b[39m\u001b[39m)\u001b[39m\n",
            "\u001b[3A\u001b[0J  \u001b[34;1m-\u001b[39;22m \u001b[39mInstalling \u001b[39m\u001b[36mpandas\u001b[39m\u001b[39m (\u001b[39m\u001b[39;1m2.3.1\u001b[39;22m\u001b[39m)\u001b[39m: \u001b[34mDownloading...\u001b[39m \u001b[39;1m50%\u001b[39;22m\n",
            "  \u001b[32;1m-\u001b[39;22m \u001b[39mInstalling \u001b[39m\u001b[36mrequests\u001b[39m\u001b[39m (\u001b[39m\u001b[32m2.32.4\u001b[39m\u001b[39m)\u001b[39m\n",
            "\u001b[2A\u001b[0J  \u001b[34;1m-\u001b[39;22m \u001b[39mInstalling \u001b[39m\u001b[36mlxml\u001b[39m\u001b[39m (\u001b[39m\u001b[39;1m6.0.0\u001b[39;22m\u001b[39m)\u001b[39m: \u001b[34mDownloading...\u001b[39m \u001b[39;1m100%\u001b[39;22m\n",
            "  \u001b[34;1m-\u001b[39;22m \u001b[39mInstalling \u001b[39m\u001b[36mpandas\u001b[39m\u001b[39m (\u001b[39m\u001b[39;1m2.3.1\u001b[39;22m\u001b[39m)\u001b[39m: \u001b[34mDownloading...\u001b[39m \u001b[39;1m50%\u001b[39;22m\n",
            "  \u001b[32;1m-\u001b[39;22m \u001b[39mInstalling \u001b[39m\u001b[36mrequests\u001b[39m\u001b[39m (\u001b[39m\u001b[32m2.32.4\u001b[39m\u001b[39m)\u001b[39m\n",
            "\u001b[3A\u001b[0J  \u001b[34;1m-\u001b[39;22m \u001b[39mInstalling \u001b[39m\u001b[36mpandas\u001b[39m\u001b[39m (\u001b[39m\u001b[39;1m2.3.1\u001b[39;22m\u001b[39m)\u001b[39m: \u001b[34mDownloading...\u001b[39m \u001b[39;1m50%\u001b[39;22m\n",
            "  \u001b[32;1m-\u001b[39;22m \u001b[39mInstalling \u001b[39m\u001b[36mrequests\u001b[39m\u001b[39m (\u001b[39m\u001b[32m2.32.4\u001b[39m\u001b[39m)\u001b[39m\n",
            "\u001b[2A\u001b[0J  \u001b[34;1m-\u001b[39;22m \u001b[39mInstalling \u001b[39m\u001b[36mlxml\u001b[39m\u001b[39m (\u001b[39m\u001b[39;1m6.0.0\u001b[39;22m\u001b[39m)\u001b[39m: \u001b[34mInstalling...\u001b[39m\n",
            "  \u001b[34;1m-\u001b[39;22m \u001b[39mInstalling \u001b[39m\u001b[36mpandas\u001b[39m\u001b[39m (\u001b[39m\u001b[39;1m2.3.1\u001b[39;22m\u001b[39m)\u001b[39m: \u001b[34mDownloading...\u001b[39m \u001b[39;1m50%\u001b[39;22m\n",
            "  \u001b[32;1m-\u001b[39;22m \u001b[39mInstalling \u001b[39m\u001b[36mrequests\u001b[39m\u001b[39m (\u001b[39m\u001b[32m2.32.4\u001b[39m\u001b[39m)\u001b[39m\n",
            "\u001b[2A\u001b[0J  \u001b[32;1m-\u001b[39;22m \u001b[39mInstalling \u001b[39m\u001b[36mrequests\u001b[39m\u001b[39m (\u001b[39m\u001b[32m2.32.4\u001b[39m\u001b[39m)\u001b[39m\n",
            "\u001b[1A\u001b[0J  \u001b[34;1m-\u001b[39;22m \u001b[39mInstalling \u001b[39m\u001b[36mpandas\u001b[39m\u001b[39m (\u001b[39m\u001b[39;1m2.3.1\u001b[39;22m\u001b[39m)\u001b[39m: \u001b[34mDownloading...\u001b[39m \u001b[39;1m80%\u001b[39;22m\n",
            "  \u001b[32;1m-\u001b[39;22m \u001b[39mInstalling \u001b[39m\u001b[36mrequests\u001b[39m\u001b[39m (\u001b[39m\u001b[32m2.32.4\u001b[39m\u001b[39m)\u001b[39m\n",
            "\u001b[2A\u001b[0J  \u001b[32;1m-\u001b[39;22m \u001b[39mInstalling \u001b[39m\u001b[36mrequests\u001b[39m\u001b[39m (\u001b[39m\u001b[32m2.32.4\u001b[39m\u001b[39m)\u001b[39m\n",
            "\u001b[1A\u001b[0J  \u001b[34;1m-\u001b[39;22m \u001b[39mInstalling \u001b[39m\u001b[36mpandas\u001b[39m\u001b[39m (\u001b[39m\u001b[39;1m2.3.1\u001b[39;22m\u001b[39m)\u001b[39m: \u001b[34mDownloading...\u001b[39m \u001b[39;1m100%\u001b[39;22m\n",
            "  \u001b[32;1m-\u001b[39;22m \u001b[39mInstalling \u001b[39m\u001b[36mrequests\u001b[39m\u001b[39m (\u001b[39m\u001b[32m2.32.4\u001b[39m\u001b[39m)\u001b[39m\n",
            "\u001b[2A\u001b[0J  \u001b[32;1m-\u001b[39;22m \u001b[39mInstalling \u001b[39m\u001b[36mrequests\u001b[39m\u001b[39m (\u001b[39m\u001b[32m2.32.4\u001b[39m\u001b[39m)\u001b[39m\n",
            "\u001b[1A\u001b[0J  \u001b[34;1m-\u001b[39;22m \u001b[39mInstalling \u001b[39m\u001b[36mpandas\u001b[39m\u001b[39m (\u001b[39m\u001b[39;1m2.3.1\u001b[39;22m\u001b[39m)\u001b[39m: \u001b[34mInstalling...\u001b[39m\n",
            "  \u001b[32;1m-\u001b[39;22m \u001b[39mInstalling \u001b[39m\u001b[36mrequests\u001b[39m\u001b[39m (\u001b[39m\u001b[32m2.32.4\u001b[39m\u001b[39m)\u001b[39m\n",
            "\u001b[3A\u001b[0J  \u001b[34;1m-\u001b[39;22m \u001b[39mInstalling \u001b[39m\u001b[36mpandas\u001b[39m\u001b[39m (\u001b[39m\u001b[39;1m2.3.1\u001b[39;22m\u001b[39m)\u001b[39m: \u001b[34mInstalling...\u001b[39m\n",
            "  \u001b[32;1m-\u001b[39;22m \u001b[39mInstalling \u001b[39m\u001b[36mrequests\u001b[39m\u001b[39m (\u001b[39m\u001b[32m2.32.4\u001b[39m\u001b[39m)\u001b[39m\n",
            "\u001b[2A\u001b[0J  \u001b[32;1m-\u001b[39;22m \u001b[39mInstalling \u001b[39m\u001b[36mlxml\u001b[39m\u001b[39m (\u001b[39m\u001b[32m6.0.0\u001b[39m\u001b[39m)\u001b[39m\n",
            "  \u001b[34;1m-\u001b[39;22m \u001b[39mInstalling \u001b[39m\u001b[36mpandas\u001b[39m\u001b[39m (\u001b[39m\u001b[39;1m2.3.1\u001b[39;22m\u001b[39m)\u001b[39m: \u001b[34mInstalling...\u001b[39m\n",
            "  \u001b[32;1m-\u001b[39;22m \u001b[39mInstalling \u001b[39m\u001b[36mrequests\u001b[39m\u001b[39m (\u001b[39m\u001b[32m2.32.4\u001b[39m\u001b[39m)\u001b[39m\n",
            "\u001b[2A\u001b[0J  \u001b[32;1m-\u001b[39;22m \u001b[39mInstalling \u001b[39m\u001b[36mrequests\u001b[39m\u001b[39m (\u001b[39m\u001b[32m2.32.4\u001b[39m\u001b[39m)\u001b[39m\n",
            "\u001b[1A\u001b[0J  \u001b[32;1m-\u001b[39;22m \u001b[39mInstalling \u001b[39m\u001b[36mpandas\u001b[39m\u001b[39m (\u001b[39m\u001b[32m2.3.1\u001b[39m\u001b[39m)\u001b[39m\n",
            "  \u001b[32;1m-\u001b[39;22m \u001b[39mInstalling \u001b[39m\u001b[36mrequests\u001b[39m\u001b[39m (\u001b[39m\u001b[32m2.32.4\u001b[39m\u001b[39m)\u001b[39m\n",
            "\n",
            "\u001b[34mWriting lock file\u001b[39m\n"
          ]
        }
      ]
    },
    {
      "cell_type": "markdown",
      "source": [
        "Retrieve the data from PubMed we need to write the logic inside the retrieval.py file inside that contain 2 python functions fetch pmids and fetch article details. Using pubmed query syntax for fetching and returning the required fields."
      ],
      "metadata": {
        "id": "yzdrrlnBJiiw"
      }
    },
    {
      "cell_type": "code",
      "source": [
        "!poetry install"
      ],
      "metadata": {
        "colab": {
          "base_uri": "https://localhost:8080/"
        },
        "collapsed": true,
        "id": "Zq39uqv7Jf9I",
        "outputId": "ff4d09da-6d28-4fbf-a3ae-6b010bf7c62e"
      },
      "execution_count": null,
      "outputs": [
        {
          "output_type": "stream",
          "name": "stdout",
          "text": [
            "\u001b[34mInstalling dependencies from lock file\u001b[39m\n",
            "\n",
            "No dependencies to install or update\n",
            "\n",
            "\u001b[39;1mInstalling\u001b[39;22m the current project: \u001b[36mmy-pubmed-retriever\u001b[39m (\u001b[39;1m0.1.0\u001b[39;22m)\n",
            "\u001b[31;1mError: The current project could not be installed: Readme path `/content/README.md` does not exist.\n",
            "If you do not want to install the current project use \u001b[39;22m\u001b[36m--no-root\u001b[39m\u001b[31;1m.\n",
            "If you want to use Poetry only for dependency management but not for packaging, you can disable package mode by setting \u001b[39;22m\u001b[36mpackage-mode = false\u001b[39m\u001b[31;1m in your pyproject.toml file.\n",
            "If you did intend to install the current project, you may need to set `packages` in your pyproject.toml file.\n",
            "\u001b[39;22m\n"
          ]
        }
      ]
    },
    {
      "cell_type": "code",
      "source": [
        "!poetry run python cli.py \"epilepsy AND children[mesh]\" --max-results 15 --output-file epilepsy_children.csv"
      ],
      "metadata": {
        "id": "ESJtq_B3SP3m"
      },
      "execution_count": null,
      "outputs": []
    },
    {
      "cell_type": "markdown",
      "source": [
        "Command line features: help, debug and file"
      ],
      "metadata": {
        "id": "zqEbBIuIXrNS"
      }
    },
    {
      "cell_type": "code",
      "source": [
        "!poetry run python cli.py --help"
      ],
      "metadata": {
        "id": "wgf0d_2vW1D3"
      },
      "execution_count": null,
      "outputs": []
    },
    {
      "cell_type": "code",
      "source": [
        "!poetry run python cli.py \"COVID-19 vaccine AND children[ti]\" -m 2 -d"
      ],
      "metadata": {
        "id": "_tWhMZ0FXEXF",
        "collapsed": true
      },
      "execution_count": null,
      "outputs": []
    },
    {
      "cell_type": "code",
      "source": [
        "!touch README.md"
      ],
      "metadata": {
        "id": "goZ6TPwiEYq0"
      },
      "execution_count": null,
      "outputs": []
    },
    {
      "cell_type": "code",
      "source": [
        "!poetry install"
      ],
      "metadata": {
        "colab": {
          "base_uri": "https://localhost:8080/"
        },
        "id": "azz5INnmDkqp",
        "outputId": "e1986919-ef5f-44b8-9094-450b0a646430"
      },
      "execution_count": null,
      "outputs": [
        {
          "output_type": "stream",
          "name": "stdout",
          "text": [
            "\u001b[34mInstalling dependencies from lock file\u001b[39m\n",
            "\n",
            "No dependencies to install or update\n",
            "\n",
            "\u001b[39;1mInstalling\u001b[39;22m the current project: \u001b[36mmy-pubmed-retriever\u001b[39m (\u001b[39;1m0.1.0\u001b[39;22m)\u001b[1G\u001b[2K\u001b[39;1mInstalling\u001b[39;22m the current project: \u001b[36mmy-pubmed-retriever\u001b[39m (\u001b[32m0.1.0\u001b[39m)\n"
          ]
        }
      ]
    },
    {
      "cell_type": "code",
      "source": [
        "!poetry run get-papers-list cli.py \"CRISPR gene editing\" -m 10 -f crispr_articles.csv"
      ],
      "metadata": {
        "colab": {
          "base_uri": "https://localhost:8080/"
        },
        "id": "q374mfEAXZKg",
        "outputId": "14329536-c55d-45d9-c52d-e897629fc8fc",
        "collapsed": true
      },
      "execution_count": null,
      "outputs": [
        {
          "output_type": "stream",
          "name": "stdout",
          "text": [
            "\u001b[31;1mCommand not found: \u001b[39;22m\u001b[36mget-papers-list\u001b[39m\n"
          ]
        }
      ]
    },
    {
      "cell_type": "markdown",
      "source": [
        "according to the task , the program must identify papers with atleast 1 author affiliated with pharmaceutical/ biotech company and return as csv file."
      ],
      "metadata": {
        "id": "x-WoDx-1-V1p"
      }
    },
    {
      "cell_type": "code",
      "source": [
        "!poetry run get-papers-list \"CRISPR[tiab] AND (biotechnology[tiab] OR industry[tiab] OR Pfizer[affiliation] OR Amgen[affiliation])\" -m 5 -f biotech_crispr_papers.csv -d"
      ],
      "metadata": {
        "colab": {
          "base_uri": "https://localhost:8080/"
        },
        "id": "KuUKxOTA-yz5",
        "outputId": "69a25174-8d68-4166-c8cc-ec96faeccdbf"
      },
      "execution_count": null,
      "outputs": [
        {
          "output_type": "stream",
          "name": "stdout",
          "text": [
            "\u001b[31;1mCommand not found: \u001b[39;22m\u001b[36mget-papers-list\u001b[39m\n"
          ]
        }
      ]
    },
    {
      "cell_type": "code",
      "source": [
        "from google.colab import drive\n",
        "drive.mount('/content/drive')"
      ],
      "metadata": {
        "colab": {
          "base_uri": "https://localhost:8080/"
        },
        "id": "rBxdJKgZArkP",
        "outputId": "c8000a04-2ac1-416c-af7c-c01faa88b3e1"
      },
      "execution_count": null,
      "outputs": [
        {
          "output_type": "stream",
          "name": "stdout",
          "text": [
            "Mounted at /content/drive\n"
          ]
        }
      ]
    },
    {
      "cell_type": "code",
      "source": [
        "\n",
        "\n",
        "# Use a multi-line string with 'cat' and redirection to write to README.md\n",
        "%%writefile README.md\n",
        "# PubMed Article Retriever\n",
        "\n",
        "#A Python command-line tool and package to fetch PubMed article details based on a search query, and export the structured data.\n",
        "\n",
        "## Features\n",
        "\n",
        "# Flexible Search: Retrieve articles using standard PubMed query syntax.\n",
        "* **Flexible Search:** Retrieve articles using standard PubMed query syntax.\n",
        "* **Detailed Extraction:** Gathers PubMed ID, Title, Publication Date, Non-academy Authors, Company Affiliation, and Corresponding Author Email.\n",
        "* **Output Options:** Save results to a CSV file or print directly to the console.\n",
        "* **Rate Limit Management:** Supports an optional NCBI API key for higher request limits.\n",
        "* **Debug Mode:** Provides verbose output for troubleshooting during execution.\n",
        "* **Dependency Management & Packaging:** Utilizes Poetry for robust dependency handling and project packaging.\n",
        "\n",
        "## 1. Code Organization\n",
        "\n",
        "This project is structured as a Python package (`my_pubmed_retriever`) with a separate command-line interface (CLI) script.\n",
        "* **`my_pubmed_retriever/retriever.py`**: This file encapsulates the core functionality. It contains functions (`fetch_pmids`, `fetch_article_details`) responsible for making API calls to PubMed, parsing the XML responses, and extracting the relevant article information into a Pandas DataFrame. This separation makes the core logic reusable and testable independently.\n",
        "* **`cli.py`**: This script defines the command-line arguments using `argparse`. It imports and orchestrates the functions from `my_pubmed_retriever.retriever` based on user input, handles output (to console or CSV), and provides error handling.\n",
        "* **`pyproject.toml`**: This is Poetry's main configuration file. It declares the project's name, version, description, authors, license, and specifies all external Python library dependencies (e.g., `requests`, `pandas`, `lxml`). Crucially, it also defines the `get-papers-list` executable command that links to the `main` function in `cli.py`.\n",
        "\n",
        "---\n",
        "## 2. Installation and Execution Instructions\n",
        "\n",
        "This project uses [Poetry](https://python-poetry.org/) for dependency management and packaging.\n",
        "\n",
        "### A. Setting up the Development Environment (e.g., in Google Colab)\n",
        "\n",
        "If running in Google Colab, you'll need to perform these steps at the beginning of your session, especially after a runtime restart:\n",
        "\n",
        "1.  **Mount Google Drive (Optional, but recommended for persistence):**\n",
        "    ```python\n",
        "    from google.colab import drive\n",
        "    drive.mount('/content/drive')\n",
        "    ```\n",
        "\n",
        "2.  **Navigate to your Project Directory:**\n",
        "    Replace `/content/drive/MyDrive/My_pubmed_projects` with the actual path where you've stored your project.\n",
        "    ```python\n",
        "    %cd /content/drive/MyDrive/My_pubmed_projects\n",
        "    ```\n",
        "\n",
        "3.  **Install Poetry:**\n",
        "    ```bash\n",
        "    !pip install poetry\n",
        "    ```\n",
        "\n",
        "4.  **Configure Poetry for In-Project Virtual Environments (Recommended):**\n",
        "    ```bash\n",
        "    !poetry config virtualenvs.in-project true\n",
        "    ```\n",
        "\n",
        "5.  **Install Project Dependencies:**\n",
        "    This command reads `pyproject.toml`, creates a virtual environment, and installs all required libraries.\n",
        "    ```bash\n",
        "    !poetry install\n",
        "    ```\n",
        "### B. Executing the Program\n",
        "\n",
        "Once dependencies are installed, you can run the `get-papers-list` command from your project's root directory:\n",
        "\n",
        "**Basic Usage (Prints to Console):**\n",
        "```bash\n",
        "!poetry run get-papers-list \"your search query here\"\n",
        "\n",
        "## 3. Meaningful LLM Leverage\n",
        "\n",
        "This project was developed with significant, ongoing guidance and assistance from Gemini, a large language model, throughout its various stages. The interactive conversations with Gemini were instrumental in accelerating development, clarifying complex concepts, and troubleshooting issues.\n",
        "\n",
        "Gemini provided comprehensive support, including:\n",
        "\n",
        "Libraries and Tools Suggested/Utilized:\n",
        "requests: For making HTTP requests to the PubMed E-utilities API (esearch and efetch).\n",
        "\n",
        "pandas: For efficient data structuring, manipulation, and final export to CSV in a tabular format.\n",
        "\n",
        "xml.etree.ElementTree: For robust parsing of the XML responses received from the PubMed E-utilities efetch calls. (While other XML parsers might exist, Gemini's guidance often gravitated towards this built-in Python module for simplicity and directness.)\n",
        "\n",
        "argparse: For designing a flexible and user-friendly command-line interface, allowing users to specify queries, output options, and other parameters.\n",
        "\n",
        "Poetry: For managing project dependencies, creating isolated virtual environments, and defining executable scripts.\n",
        "\n",
        "Key Guidance and Information Provided by Gemini:\n",
        "Project Structure and Best Practices: Guidance on organizing the codebase into a Python package (my_pubmed_retriever), separating core logic (retriever.py) from the command-line interface (cli.py), and configuring pyproject.toml.\n",
        "\n",
        "Poetry Configuration and Usage:\n",
        "\n",
        "Setting up pyproject.toml for dependencies and specifying the compatible Python version range.\n",
        "\n",
        "Defining the get-papers-list executable command via [tool.poetry.scripts] to make the CLI directly runnable.\n",
        "\n",
        "Correct usage of !poetry install for dependency management and !poetry run for executing the script within the Poetry environment.\n",
        "\n",
        "Troubleshooting common Poetry errors (e.g., \"Python version not allowed,\" \"command not found,\" missing README.md).\n",
        "\n",
        "Command-Line Interface (CLI) Development:\n",
        "\n",
        "Designing argparse arguments for query, max results, output file, API key, and debug mode.\n",
        "\n",
        "Implementing conditional logic for outputting to console vs. CSV file.\n",
        "\n",
        "Addressing \"unrecognized arguments\" errors by emphasizing correct command-line quoting.\n",
        "\n",
        "PubMed API Interaction and Data Extraction:\n",
        "\n",
        "Formulating effective PubMed search queries for esearch.\n",
        "\n",
        "Retrieving detailed article information using efetch and parsing the XML response.\n",
        "\n",
        "Specific instructions on extracting fields like Title, Publication Date, Author Names, and Affiliation information.\n",
        "\n",
        "Developing heuristic logic for identifying \"Non-academy Authors\" and \"Company Affiliation\" based on keywords within affiliation strings.\n",
        "\n",
        "Attempting to extract \"Corresponding Author Email\" where possible from affiliation text (acknowledging its often unreliable presence).\n",
        "\n",
        "Error Handling: Implementation of comprehensive try-except blocks to gracefully handle various errors, including network issues, HTTP errors from the API, and unexpected exceptions.\n",
        "\n",
        "Documentation (README.md) Guidance: Providing a structured template and advice on what content to include for clear project documentation.\n",
        "\n",
        "General Troubleshooting: Step-by-step debugging assistance for various technical issues encountered during the development process in the Google Colab environment."
      ],
      "metadata": {
        "colab": {
          "base_uri": "https://localhost:8080/"
        },
        "id": "iE_-C0tJg6Qe",
        "outputId": "248f4d41-c1e2-4228-cff4-59de5eecf2c8"
      },
      "execution_count": 28,
      "outputs": [
        {
          "output_type": "stream",
          "name": "stdout",
          "text": [
            "Overwriting README.md\n"
          ]
        }
      ]
    },
    {
      "cell_type": "code",
      "source": [
        "!cat README.md"
      ],
      "metadata": {
        "colab": {
          "base_uri": "https://localhost:8080/"
        },
        "id": "udIp2yOtl23r",
        "outputId": "fdf9bcc0-4955-42af-acd7-10db04a9ad14"
      },
      "execution_count": 29,
      "outputs": [
        {
          "output_type": "stream",
          "name": "stdout",
          "text": [
            "# PubMed Article Retriever\n",
            "\n",
            "#A Python command-line tool and package to fetch PubMed article details based on a search query, and export the structured data.\n",
            "\n",
            "## Features\n",
            "\n",
            "# Flexible Search: Retrieve articles using standard PubMed query syntax.\n",
            "* **Flexible Search:** Retrieve articles using standard PubMed query syntax.\n",
            "* **Detailed Extraction:** Gathers PubMed ID, Title, Publication Date, Non-academy Authors, Company Affiliation, and Corresponding Author Email.\n",
            "* **Output Options:** Save results to a CSV file or print directly to the console.\n",
            "* **Rate Limit Management:** Supports an optional NCBI API key for higher request limits.\n",
            "* **Debug Mode:** Provides verbose output for troubleshooting during execution.\n",
            "* **Dependency Management & Packaging:** Utilizes Poetry for robust dependency handling and project packaging.\n",
            "\n",
            "## 1. Code Organization\n",
            "\n",
            "This project is structured as a Python package (`my_pubmed_retriever`) with a separate command-line interface (CLI) script.\n",
            "* **`my_pubmed_retriever/retriever.py`**: This file encapsulates the core functionality. It contains functions (`fetch_pmids`, `fetch_article_details`) responsible for making API calls to PubMed, parsing the XML responses, and extracting the relevant article information into a Pandas DataFrame. This separation makes the core logic reusable and testable independently.\n",
            "* **`cli.py`**: This script defines the command-line arguments using `argparse`. It imports and orchestrates the functions from `my_pubmed_retriever.retriever` based on user input, handles output (to console or CSV), and provides error handling.\n",
            "* **`pyproject.toml`**: This is Poetry's main configuration file. It declares the project's name, version, description, authors, license, and specifies all external Python library dependencies (e.g., `requests`, `pandas`, `lxml`). Crucially, it also defines the `get-papers-list` executable command that links to the `main` function in `cli.py`.\n",
            "\n",
            "---\n",
            "## 2. Installation and Execution Instructions\n",
            "\n",
            "This project uses [Poetry](https://python-poetry.org/) for dependency management and packaging.\n",
            "\n",
            "### A. Setting up the Development Environment (e.g., in Google Colab)\n",
            "\n",
            "If running in Google Colab, you'll need to perform these steps at the beginning of your session, especially after a runtime restart:\n",
            "\n",
            "1.  **Mount Google Drive (Optional, but recommended for persistence):**\n",
            "    ```python\n",
            "    from google.colab import drive\n",
            "    drive.mount('/content/drive')\n",
            "    ```\n",
            "\n",
            "2.  **Navigate to your Project Directory:**\n",
            "    Replace `/content/drive/MyDrive/My_pubmed_projects` with the actual path where you've stored your project.\n",
            "    ```python\n",
            "    %cd /content/drive/MyDrive/My_pubmed_projects\n",
            "    ```\n",
            "\n",
            "3.  **Install Poetry:**\n",
            "    ```bash\n",
            "    !pip install poetry\n",
            "    ```\n",
            "\n",
            "4.  **Configure Poetry for In-Project Virtual Environments (Recommended):**\n",
            "    ```bash\n",
            "    !poetry config virtualenvs.in-project true\n",
            "    ```\n",
            "\n",
            "5.  **Install Project Dependencies:**\n",
            "    This command reads `pyproject.toml`, creates a virtual environment, and installs all required libraries.\n",
            "    ```bash\n",
            "    !poetry install\n",
            "    ```\n",
            "### B. Executing the Program\n",
            "\n",
            "Once dependencies are installed, you can run the `get-papers-list` command from your project's root directory:\n",
            "\n",
            "**Basic Usage (Prints to Console):**\n",
            "```bash\n",
            "!poetry run get-papers-list \"your search query here\"\n",
            "\n",
            "## 3. Meaningful LLM Leverage\n",
            "\n",
            "This project was developed with significant, ongoing guidance and assistance from Gemini, a large language model, throughout its various stages. The interactive conversations with Gemini were instrumental in accelerating development, clarifying complex concepts, and troubleshooting issues.\n",
            "\n",
            "Gemini provided comprehensive support, including:\n",
            "\n",
            "Libraries and Tools Suggested/Utilized:\n",
            "requests: For making HTTP requests to the PubMed E-utilities API (esearch and efetch).\n",
            "\n",
            "pandas: For efficient data structuring, manipulation, and final export to CSV in a tabular format.\n",
            "\n",
            "xml.etree.ElementTree: For robust parsing of the XML responses received from the PubMed E-utilities efetch calls. (While other XML parsers might exist, Gemini's guidance often gravitated towards this built-in Python module for simplicity and directness.)\n",
            "\n",
            "argparse: For designing a flexible and user-friendly command-line interface, allowing users to specify queries, output options, and other parameters.\n",
            "\n",
            "Poetry: For managing project dependencies, creating isolated virtual environments, and defining executable scripts.\n",
            "\n",
            "Key Guidance and Information Provided by Gemini:\n",
            "Project Structure and Best Practices: Guidance on organizing the codebase into a Python package (my_pubmed_retriever), separating core logic (retriever.py) from the command-line interface (cli.py), and configuring pyproject.toml.\n",
            "\n",
            "Poetry Configuration and Usage:\n",
            "\n",
            "Setting up pyproject.toml for dependencies and specifying the compatible Python version range.\n",
            "\n",
            "Defining the get-papers-list executable command via [tool.poetry.scripts] to make the CLI directly runnable.\n",
            "\n",
            "Correct usage of !poetry install for dependency management and !poetry run for executing the script within the Poetry environment.\n",
            "\n",
            "Troubleshooting common Poetry errors (e.g., \"Python version not allowed,\" \"command not found,\" missing README.md).\n",
            "\n",
            "Command-Line Interface (CLI) Development:\n",
            "\n",
            "Designing argparse arguments for query, max results, output file, API key, and debug mode.\n",
            "\n",
            "Implementing conditional logic for outputting to console vs. CSV file.\n",
            "\n",
            "Addressing \"unrecognized arguments\" errors by emphasizing correct command-line quoting.\n",
            "\n",
            "PubMed API Interaction and Data Extraction:\n",
            "\n",
            "Formulating effective PubMed search queries for esearch.\n",
            "\n",
            "Retrieving detailed article information using efetch and parsing the XML response.\n",
            "\n",
            "Specific instructions on extracting fields like Title, Publication Date, Author Names, and Affiliation information.\n",
            "\n",
            "Developing heuristic logic for identifying \"Non-academy Authors\" and \"Company Affiliation\" based on keywords within affiliation strings.\n",
            "\n",
            "Attempting to extract \"Corresponding Author Email\" where possible from affiliation text (acknowledging its often unreliable presence).\n",
            "\n",
            "Error Handling: Implementation of comprehensive try-except blocks to gracefully handle various errors, including network issues, HTTP errors from the API, and unexpected exceptions.\n",
            "\n",
            "Documentation (README.md) Guidance: Providing a structured template and advice on what content to include for clear project documentation.\n",
            "\n",
            "General Troubleshooting: Step-by-step debugging assistance for various technical issues encountered during the development process in the Google Colab environment.\n"
          ]
        }
      ]
    }
  ]
}